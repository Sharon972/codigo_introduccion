{
  "cells": [
    {
      "cell_type": "markdown",
      "id": "cd9ca424-1b3d-4855-8ef4-5eb39e9aefdd",
      "metadata": {
        "tags": [],
        "id": "cd9ca424-1b3d-4855-8ef4-5eb39e9aefdd"
      },
      "source": [
        "# Importancia del análisis de datos.\n",
        "\n",
        "## Análisis de grandes conjuntos de datos.\n",
        "\n",
        "Hoy en día el acceso a la información es más rápida y directa que en décadas pasadas.\n",
        "\n",
        "<table class=\"default\">\n",
        "  <tr>\n",
        "    <td rowspan = \"8\">\n",
        "    <img src=\"https://cdn.statcdn.com/Infographic/images/normal/26031.jpeg\" width=400px></td>\n",
        "    <td>YB = 1000<sup>8</sup></td>\n",
        "  </tr>\n",
        "  <tr>\n",
        "    <td style=\"background-color:#FF7F50;\">ZB = 1000<sup>7</sup></td>\n",
        "  </tr>    \n",
        "  <tr>\n",
        "    <td>EB = 1000<sup>6</sup></td>\n",
        "  </tr>\n",
        "  <tr>\n",
        "    <td>PB = 1000<sup>5</sup></td>\n",
        "  </tr>\n",
        "  <tr>\n",
        "    <td>TB = 1000<sup>4</sup></td>\n",
        "  </tr>\n",
        "  <tr>\n",
        "    <td>GB = 1000<sup>3</sup></td>\n",
        "  </tr>\n",
        "  <tr>\n",
        "    <td>MB = 1000<sup>2</sup></td>\n",
        "  </tr>\n",
        "  <tr>\n",
        "    <td>kB = 1000</td>\n",
        "  </tr>\n",
        "</table>\n",
        "\n",
        "## ¿Por qué es importante este análisis?\n",
        "\n",
        "* En los **negocios**: el análisis de grandes conjuntos de datos ayuda a las organizaciones a aprovechar sus datos y utilizarlos para identificar nuevas oportunidades. Eso, a su vez, conduce a movimientos de negocios más inteligentes, operaciones más eficientes, mayores ganancias y clientes más felices.\n",
        "\n",
        "* En la **ciencia**: el análisis de datos es una herramienta esencial porque permite descubrir patrones y relaciones en los datos, tomar decisiones basadas en hechos objetivos, validar hipótesis científicas, comunicar los resultados de manera clara y facilitar la replicación de los experimentos.\n",
        "\n",
        "En general, el análisis de datos permite **tomar decisiones basadas en hechos y datos objetivos**, en lugar de basarse únicamente en intuiciones o suposiciones."
      ]
    },
    {
      "cell_type": "markdown",
      "id": "fa6a6723-73d3-455c-80dc-e2fedde73428",
      "metadata": {
        "id": "fa6a6723-73d3-455c-80dc-e2fedde73428"
      },
      "source": [
        "## Conocimientos necesarios.\n",
        "\n",
        "¿Qué conocimientos necesito para..?\n",
        "* **procesar un conjunto de datos de gran tamaño** y sacar el mayor provecho posible, y\n",
        "* intentar **conocer el futuro** únicamente con datos sobre el pasado\n",
        "\n",
        "\n",
        "\n",
        "### Estadística.\n",
        "\n",
        "<p>Definición de <a href=\"https://es.wikipedia.org/wiki/Estad%C3%ADstica\">estadística</a> de Wikipedia:</p>\n",
        "<blockquote cite=\"https://es.wikipedia.org/wiki/Estad%C3%ADstica\">\n",
        "La estadística (la forma femenina del término alemán <i>Statistik</i>, derivado a su vez del italiano <i>statista</i>, ‘hombre de Estado’) es la disciplina que estudia la variabilidad, recolección, organización, análisis, interpretación y presentación de los datos, así como el proceso aleatorio que los genera siguiendo las leyes de la probabilidad.\n",
        "</blockquote>\n",
        "\n",
        "La estadística se puede dividir en dos ramas principales:\n",
        "* **Estadística descriptiva**. Nos permite describir un conjuto de datos a través de diferentes medidas: promedio, moda, mediana, desviación estándar, entre otras.\n",
        "\n",
        "* **Estadítica inferencial**. Podemos obtener conclusiones (establecer inferencias) útiles a partir de una gran cantidad de datos, usando un pequeño conjunto de esos datos, es decir de una muestra. Las inferencias nos permiten formular predicciones, identificar causas y efectos, y responder a las preguntas y todos aquellos elementos que requieran relacionar los datos con nuestro conocimiento o experiencia previa.\n",
        "\n",
        "\n",
        "### Aprendizaje de automático (*Machine Learnig*).\n",
        "\n",
        "Predicción a través de la creación de algoritmos que *aprenden* de los datos.\n",
        "\n",
        "<p>Definición de <a href=\"https://es.wikipedia.org/wiki/Aprendizaje_autom%C3%A1tico\">aprendizaje de automático</a> de Wikipedia:</p>\n",
        "<blockquote cite=\"https://es.wikipedia.org/wiki/Aprendizaje_autom%C3%A1tico\">\n",
        "El <b>aprendizaje automático</b> o <b>aprendizaje automatizado</b> o <b>aprendizaje de máquinas</b> o <b>aprendizaje computacional</b> (del inglés, <i>machine learning</i>) es el subcampo de las ciencias de la computación y una rama de la inteligencia artificial, cuyo objetivo es desarrollar técnicas que permitan que las computadoras aprendan. Se dice que un agente aprende cuando su <b>desempeño mejora con la experiencia</b> y mediante el <b>uso de datos</b>; es decir, cuando la habilidad no estaba presente en su genotipo o rasgos de nacimiento. <br><br>\n",
        "\"En el aprendizaje de máquinas un computador observa datos, construye un modelo basado en esos datos y utiliza ese modelo a la vez como una hipótesis acerca del mundo y una pieza de software que puede resolver problemas\". Russell and Norvig (2021). <i>Artificial Intelligence: A Modern Approach</i> (en inglés). Pearson. p. 651. ISBN 9780134610993.\n",
        "</blockquote>\n",
        "\n",
        "### Matemáticas básicas.\n",
        "\n",
        "Tanto la Estadística como el Aprendizaje de Máquina requieren de un conjunto de matemáticas básicas, sobre las cuales se desarrollan conceptos más avanzados. Particularmente:\n",
        "* Cálculo.\n",
        "* Álgebra lineal.\n",
        "* Análisis numérico."
      ]
    },
    {
      "cell_type": "markdown",
      "id": "b87ddeae-75e1-4c04-bc99-d5989529d3fe",
      "metadata": {
        "id": "b87ddeae-75e1-4c04-bc99-d5989529d3fe"
      },
      "source": [
        "### Python y su entorno para IA.\n",
        "\n",
        "Existen muchas herramientas computacionales para el análisis de información y creación de modelos de IA. Particularmente, el lenguaje de programación Python proporciona muchas herramientas de aprendizaje automático. Desde las más básicas para cálculo numérico ([numpy](https://numpy.org/)), cálculo simbólico ([sympy](https://www.sympy.org/en/index.html)), análisis de datos ([pandas](https://pandas.pydata.org/)) y graficación ([matplotlib](https://matplotlib.org/)) y otras más especializadas para redes neuronales ([scikit-learn](https://scikit-learn.org/stable/), [tensorflow](https://www.tensorflow.org/), [pytorch](https://pytorch.org/)).\n",
        "\n",
        "En Python tenemos todos los ingredientes para realizar aplicaciones de IA."
      ]
    },
    {
      "cell_type": "markdown",
      "id": "67daf201-874f-49b4-9a0b-53184c838312",
      "metadata": {
        "id": "67daf201-874f-49b4-9a0b-53184c838312"
      },
      "source": [
        "# Estadística descriptiva.\n",
        "\n",
        "En la era del *Big Data* y la IA, es importante saber cómo calcular las medidas estadísticas que describen los datos. Estas medidas dan un resumen de los datos y es posible calcularlas usando diferente bibliotecas de Python. Por ejemplo:\n",
        "\n",
        "* Módulo `statistics` con las funciones más importantes de estadística descriptiva.\n",
        "* Biblioteca `numpy` para manejar arreglos de manera eficiente y también hacer algunos cálculos estadísticos.\n",
        "* Biblioteca `scipy`que contiene funciones adicionales para trabajar con arreglos de `numpy`.\n",
        "* Biblioteca `pandas` para trabajar con conjuntos de datos etiquetados.\n",
        "* Biblioteca `matplotlib` para visualizar los datos.\n",
        "\n",
        "Para explicar los elementos principales de la estadística descriptiva, usaremos un conjunto de datos que crearemos artificialmente.\n",
        "\n",
        "## Biblioteca a utilizar."
      ]
    },
    {
      "cell_type": "code",
      "execution_count": 1,
      "id": "bb537fad-a984-4c2f-bc26-ce4fd9a31115",
      "metadata": {
        "tags": [],
        "id": "bb537fad-a984-4c2f-bc26-ce4fd9a31115"
      },
      "outputs": [],
      "source": [
        "import numpy as np\n",
        "import pandas as pd\n",
        "import math\n",
        "import statistics\n",
        "import scipy.stats\n",
        "import matplotlib.pyplot as plt"
      ]
    },
    {
      "cell_type": "markdown",
      "id": "81298b1a-cb9d-4556-ba98-db8a15359bcc",
      "metadata": {
        "id": "81298b1a-cb9d-4556-ba98-db8a15359bcc"
      },
      "source": [
        "## Creación de un conjunto de datos."
      ]
    },
    {
      "cell_type": "code",
      "execution_count": 6,
      "id": "78e70dd8-0997-486d-b614-80dbbdcaf6e2",
      "metadata": {
        "tags": [],
        "id": "78e70dd8-0997-486d-b614-80dbbdcaf6e2"
      },
      "outputs": [],
      "source": [
        "N = 20 # cantidad de datos\n",
        "L = 10 # dominio de estudio de los datos, de 0 a L\n",
        "\n",
        "# Generación de un conjunto de datos\n",
        "x = np.linspace(0,L,N)\n",
        "y = x + np.random.randn(N) #rand me da datos con distribución normal"
      ]
    },
    {
      "cell_type": "code",
      "execution_count": 7,
      "id": "c2b5e800-0f9a-4cdf-9281-dc804cef8cc1",
      "metadata": {
        "tags": [],
        "id": "c2b5e800-0f9a-4cdf-9281-dc804cef8cc1",
        "colab": {
          "base_uri": "https://localhost:8080/"
        },
        "outputId": "b392843e-f752-4517-8d8e-8d84d96389b9"
      },
      "outputs": [
        {
          "output_type": "stream",
          "name": "stdout",
          "text": [
            "[ 0.          0.52631579  1.05263158  1.57894737  2.10526316  2.63157895\n",
            "  3.15789474  3.68421053  4.21052632  4.73684211  5.26315789  5.78947368\n",
            "  6.31578947  6.84210526  7.36842105  7.89473684  8.42105263  8.94736842\n",
            "  9.47368421 10.        ]\n",
            "[ 0.52177124  0.72578001  2.03856878  1.9994404   2.24925264  2.98335349\n",
            "  3.06653254  2.51596286  4.21607458  5.29388465  5.58573724  4.63796379\n",
            "  5.62499689  9.32860219  7.27526702  7.69216345  8.54735709 10.37625559\n",
            "  8.96763538  8.89497949]\n"
          ]
        }
      ],
      "source": [
        "print(x)\n",
        "print(y)"
      ]
    },
    {
      "cell_type": "markdown",
      "id": "dea30d35-e9d4-4519-8e48-106854ada438",
      "metadata": {
        "id": "dea30d35-e9d4-4519-8e48-106854ada438"
      },
      "source": [
        "## Análisis exploratorio.\n",
        "\n",
        "### Graficación usando `matplotlib`."
      ]
    },
    {
      "cell_type": "code",
      "execution_count": 8,
      "id": "f52e9da8-a012-4062-a6ca-ba5244733c55",
      "metadata": {
        "tags": [],
        "id": "f52e9da8-a012-4062-a6ca-ba5244733c55",
        "colab": {
          "base_uri": "https://localhost:8080/",
          "height": 449
        },
        "outputId": "fbd42a7f-27cb-486e-cd7d-35fb0c4edae6"
      },
      "outputs": [
        {
          "output_type": "display_data",
          "data": {
            "text/plain": [
              "<Figure size 640x480 with 1 Axes>"
            ],
            "image/png": "[encoded data removed]"
          },
          "metadata": {}
        }
      ],
      "source": [
        "plt.scatter(x,y)\n",
        "plt.xlabel('$x$')\n",
        "plt.ylabel('$y$')\n",
        "plt.show()"
      ]
    },
    {
      "cell_type": "markdown",
      "id": "84817bca-54e7-46ff-a7a4-429d8cda7449",
      "metadata": {
        "id": "84817bca-54e7-46ff-a7a4-429d8cda7449"
      },
      "source": [
        "### Graficación usando `pandas.DataFrame.plot()` ."
      ]
    },
    {
      "cell_type": "code",
      "execution_count": 9,
      "id": "e7e643d6-5e20-4f30-af97-1aff81233ed4",
      "metadata": {
        "tags": [],
        "id": "e7e643d6-5e20-4f30-af97-1aff81233ed4",
        "colab": {
          "base_uri": "https://localhost:8080/",
          "height": 676
        },
        "outputId": "a6a71863-fa25-4b86-85a7-c8a4e8b08dd0"
      },
      "outputs": [
        {
          "output_type": "execute_result",
          "data": {
            "text/plain": [
              "            x          y\n",
              "0    0.000000   0.521771\n",
              "1    0.526316   0.725780\n",
              "2    1.052632   2.038569\n",
              "3    1.578947   1.999440\n",
              "4    2.105263   2.249253\n",
              "5    2.631579   2.983353\n",
              "6    3.157895   3.066533\n",
              "7    3.684211   2.515963\n",
              "8    4.210526   4.216075\n",
              "9    4.736842   5.293885\n",
              "10   5.263158   5.585737\n",
              "11   5.789474   4.637964\n",
              "12   6.315789   5.624997\n",
              "13   6.842105   9.328602\n",
              "14   7.368421   7.275267\n",
              "15   7.894737   7.692163\n",
              "16   8.421053   8.547357\n",
              "17   8.947368  10.376256\n",
              "18   9.473684   8.967635\n",
              "19  10.000000   8.894979"
            ],
            "text/html": [
              "\n",
              "  <div id=\"df-2c6a898c-d81d-4649-a04e-3d37e93cc7b0\" class=\"colab-df-container\">\n",
              "    <div>\n",
              "<style scoped>\n",
              "    .dataframe tbody tr th:only-of-type {\n",
              "        vertical-align: middle;\n",
              "    }\n",
              "\n",
              "    .dataframe tbody tr th {\n",
              "        vertical-align: top;\n",
              "    }\n",
              "\n",
              "    .dataframe thead th {\n",
              "        text-align: right;\n",
              "    }\n",
              "</style>\n",
              "<table border=\"1\" class=\"dataframe\">\n",
              "  <thead>\n",
              "    <tr style=\"text-align: right;\">\n",
              "      <th></th>\n",
              "      <th>x</th>\n",
              "      <th>y</th>\n",
              "    </tr>\n",
              "  </thead>\n",
              "  <tbody>\n",
              "    <tr>\n",
              "      <th>0</th>\n",
              "      <td>0.000000</td>\n",
              "      <td>0.521771</td>\n",
              "    </tr>\n",
              "    <tr>\n",
              "      <th>1</th>\n",
              "      <td>0.526316</td>\n",
              "      <td>0.725780</td>\n",
              "    </tr>\n",
              "    <tr>\n",
              "      <th>2</th>\n",
              "      <td>1.052632</td>\n",
              "      <td>2.038569</td>\n",
              "    </tr>\n",
              "    <tr>\n",
              "      <th>3</th>\n",
              "      <td>1.578947</td>\n",
              "      <td>1.999440</td>\n",
              "    </tr>\n",
              "    <tr>\n",
              "      <th>4</th>\n",
              "      <td>2.105263</td>\n",
              "      <td>2.249253</td>\n",
              "    </tr>\n",
              "    <tr>\n",
              "      <th>5</th>\n",
              "      <td>2.631579</td>\n",
              "      <td>2.983353</td>\n",
              "    </tr>\n",
              "    <tr>\n",
              "      <th>6</th>\n",
              "      <td>3.157895</td>\n",
              "      <td>3.066533</td>\n",
              "    </tr>\n",
              "    <tr>\n",
              "      <th>7</th>\n",
              "      <td>3.684211</td>\n",
              "      <td>2.515963</td>\n",
              "    </tr>\n",
              "    <tr>\n",
              "      <th>8</th>\n",
              "      <td>4.210526</td>\n",
              "      <td>4.216075</td>\n",
              "    </tr>\n",
              "    <tr>\n",
              "      <th>9</th>\n",
              "      <td>4.736842</td>\n",
              "      <td>5.293885</td>\n",
              "    </tr>\n",
              "    <tr>\n",
              "      <th>10</th>\n",
              "      <td>5.263158</td>\n",
              "      <td>5.585737</td>\n",
              "    </tr>\n",
              "    <tr>\n",
              "      <th>11</th>\n",
              "      <td>5.789474</td>\n",
              "      <td>4.637964</td>\n",
              "    </tr>\n",
              "    <tr>\n",
              "      <th>12</th>\n",
              "      <td>6.315789</td>\n",
              "      <td>5.624997</td>\n",
              "    </tr>\n",
              "    <tr>\n",
              "      <th>13</th>\n",
              "      <td>6.842105</td>\n",
              "      <td>9.328602</td>\n",
              "    </tr>\n",
              "    <tr>\n",
              "      <th>14</th>\n",
              "      <td>7.368421</td>\n",
              "      <td>7.275267</td>\n",
              "    </tr>\n",
              "    <tr>\n",
              "      <th>15</th>\n",
              "      <td>7.894737</td>\n",
              "      <td>7.692163</td>\n",
              "    </tr>\n",
              "    <tr>\n",
              "      <th>16</th>\n",
              "      <td>8.421053</td>\n",
              "      <td>8.547357</td>\n",
              "    </tr>\n",
              "    <tr>\n",
              "      <th>17</th>\n",
              "      <td>8.947368</td>\n",
              "      <td>10.376256</td>\n",
              "    </tr>\n",
              "    <tr>\n",
              "      <th>18</th>\n",
              "      <td>9.473684</td>\n",
              "      <td>8.967635</td>\n",
              "    </tr>\n",
              "    <tr>\n",
              "      <th>19</th>\n",
              "      <td>10.000000</td>\n",
              "      <td>8.894979</td>\n",
              "    </tr>\n",
              "  </tbody>\n",
              "</table>\n",
              "</div>\n",
              "    <div class=\"colab-df-buttons\">\n",
              "\n",
              "  <div class=\"colab-df-container\">\n",
              "    <button class=\"colab-df-convert\" onclick=\"convertToInteractive('df-2c6a898c-d81d-4649-a04e-3d37e93cc7b0')\"\n",
              "            title=\"Convert this dataframe to an interactive table.\"\n",
              "            style=\"display:none;\">\n",
              "\n",
              "  <svg xmlns=\"http://www.w3.org/2000/svg\" height=\"24px\" viewBox=\"0 -960 960 960\">\n",
              "    <path d=\"M120-120v-720h720v720H120Zm60-500h600v-160H180v160Zm220 220h160v-160H400v160Zm0 220h160v-160H400v160ZM180-400h160v-160H180v160Zm440 0h160v-160H620v160ZM180-180h160v-160H180v160Zm440 0h160v-160H620v160Z\"/>\n",
              "  </svg>\n",
              "    </button>\n",
              "\n",
              "  <style>\n",
              "    .colab-df-container {\n",
              "      display:flex;\n",
              "      gap: 12px;\n",
              "    }\n",
              "\n",
              "    .colab-df-convert {\n",
              "      background-color: #E8F0FE;\n",
              "      border: none;\n",
              "      border-radius: 50%;\n",
              "      cursor: pointer;\n",
              "      display: none;\n",
              "      fill: #1967D2;\n",
              "      height: 32px;\n",
              "      padding: 0 0 0 0;\n",
              "      width: 32px;\n",
              "    }\n",
              "\n",
              "    .colab-df-convert:hover {\n",
              "      background-color: #E2EBFA;\n",
              "      box-shadow: 0px 1px 2px rgba(60, 64, 67, 0.3), 0px 1px 3px 1px rgba(60, 64, 67, 0.15);\n",
              "      fill: #174EA6;\n",
              "    }\n",
              "\n",
              "    .colab-df-buttons div {\n",
              "      margin-bottom: 4px;\n",
              "    }\n",
              "\n",
              "    [theme=dark] .colab-df-convert {\n",
              "      background-color: #3B4455;\n",
              "      fill: #D2E3FC;\n",
              "    }\n",
              "\n",
              "    [theme=dark] .colab-df-convert:hover {\n",
              "      background-color: #434B5C;\n",
              "      box-shadow: 0px 1px 3px 1px rgba(0, 0, 0, 0.15);\n",
              "      filter: drop-shadow(0px 1px 2px rgba(0, 0, 0, 0.3));\n",
              "      fill: #FFFFFF;\n",
              "    }\n",
              "  </style>\n",
              "\n",
              "    <script>\n",
              "      const buttonEl =\n",
              "        document.querySelector('#df-2c6a898c-d81d-4649-a04e-3d37e93cc7b0 button.colab-df-convert');\n",
              "      buttonEl.style.display =\n",
              "        google.colab.kernel.accessAllowed ? 'block' : 'none';\n",
              "\n",
              "      async function convertToInteractive(key) {\n",
              "        const element = document.querySelector('#df-2c6a898c-d81d-4649-a04e-3d37e93cc7b0');\n",
              "        const dataTable =\n",
              "          await google.colab.kernel.invokeFunction('convertToInteractive',\n",
              "                                                    [key], {});\n",
              "        if (!dataTable) return;\n",
              "\n",
              "        const docLinkHtml = 'Like what you see? Visit the ' +\n",
              "          '<a target=\"_blank\" href=https://colab.research.google.com/notebooks/data_table.ipynb>data table notebook</a>'\n",
              "          + ' to learn more about interactive tables.';\n",
              "        element.innerHTML = '';\n",
              "        dataTable['output_type'] = 'display_data';\n",
              "        await google.colab.output.renderOutput(dataTable, element);\n",
              "        const docLink = document.createElement('div');\n",
              "        docLink.innerHTML = docLinkHtml;\n",
              "        element.appendChild(docLink);\n",
              "      }\n",
              "    </script>\n",
              "  </div>\n",
              "\n",
              "\n",
              "<div id=\"df-76797a80-8a77-4860-ba9e-90fe46cbecda\">\n",
              "  <button class=\"colab-df-quickchart\" onclick=\"quickchart('df-76797a80-8a77-4860-ba9e-90fe46cbecda')\"\n",
              "            title=\"Suggest charts\"\n",
              "            style=\"display:none;\">\n",
              "\n",
              "<svg xmlns=\"http://www.w3.org/2000/svg\" height=\"24px\"viewBox=\"0 0 24 24\"\n",
              "     width=\"24px\">\n",
              "    <g>\n",
              "        <path d=\"M19 3H5c-1.1 0-2 .9-2 2v14c0 1.1.9 2 2 2h14c1.1 0 2-.9 2-2V5c0-1.1-.9-2-2-2zM9 17H7v-7h2v7zm4 0h-2V7h2v10zm4 0h-2v-4h2v4z\"/>\n",
              "    </g>\n",
              "</svg>\n",
              "  </button>\n",
              "\n",
              "<style>\n",
              "  .colab-df-quickchart {\n",
              "      --bg-color: #E8F0FE;\n",
              "      --fill-color: #1967D2;\n",
              "      --hover-bg-color: #E2EBFA;\n",
              "      --hover-fill-color: #174EA6;\n",
              "      --disabled-fill-color: #AAA;\n",
              "      --disabled-bg-color: #DDD;\n",
              "  }\n",
              "\n",
              "  [theme=dark] .colab-df-quickchart {\n",
              "      --bg-color: #3B4455;\n",
              "      --fill-color: #D2E3FC;\n",
              "      --hover-bg-color: #434B5C;\n",
              "      --hover-fill-color: #FFFFFF;\n",
              "      --disabled-bg-color: #3B4455;\n",
              "      --disabled-fill-color: #666;\n",
              "  }\n",
              "\n",
              "  .colab-df-quickchart {\n",
              "    background-color: var(--bg-color);\n",
              "    border: none;\n",
              "    border-radius: 50%;\n",
              "    cursor: pointer;\n",
              "    display: none;\n",
              "    fill: var(--fill-color);\n",
              "    height: 32px;\n",
              "    padding: 0;\n",
              "    width: 32px;\n",
              "  }\n",
              "\n",
              "  .colab-df-quickchart:hover {\n",
              "    background-color: var(--hover-bg-color);\n",
              "    box-shadow: 0 1px 2px rgba(60, 64, 67, 0.3), 0 1px 3px 1px rgba(60, 64, 67, 0.15);\n",
              "    fill: var(--button-hover-fill-color);\n",
              "  }\n",
              "\n",
              "  .colab-df-quickchart-complete:disabled,\n",
              "  .colab-df-quickchart-complete:disabled:hover {\n",
              "    background-color: var(--disabled-bg-color);\n",
              "    fill: var(--disabled-fill-color);\n",
              "    box-shadow: none;\n",
              "  }\n",
              "\n",
              "  .colab-df-spinner {\n",
              "    border: 2px solid var(--fill-color);\n",
              "    border-color: transparent;\n",
              "    border-bottom-color: var(--fill-color);\n",
              "    animation:\n",
              "      spin 1s steps(1) infinite;\n",
              "  }\n",
              "\n",
              "  @keyframes spin {\n",
              "    0% {\n",
              "      border-color: transparent;\n",
              "      border-bottom-color: var(--fill-color);\n",
              "      border-left-color: var(--fill-color);\n",
              "    }\n",
              "    20% {\n",
              "      border-color: transparent;\n",
              "      border-left-color: var(--fill-color);\n",
              "      border-top-color: var(--fill-color);\n",
              "    }\n",
              "    30% {\n",
              "      border-color: transparent;\n",
              "      border-left-color: var(--fill-color);\n",
              "      border-top-color: var(--fill-color);\n",
              "      border-right-color: var(--fill-color);\n",
              "    }\n",
              "    40% {\n",
              "      border-color: transparent;\n",
              "      border-right-color: var(--fill-color);\n",
              "      border-top-color: var(--fill-color);\n",
              "    }\n",
              "    60% {\n",
              "      border-color: transparent;\n",
              "      border-right-color: var(--fill-color);\n",
              "    }\n",
              "    80% {\n",
              "      border-color: transparent;\n",
              "      border-right-color: var(--fill-color);\n",
              "      border-bottom-color: var(--fill-color);\n",
              "    }\n",
              "    90% {\n",
              "      border-color: transparent;\n",
              "      border-bottom-color: var(--fill-color);\n",
              "    }\n",
              "  }\n",
              "</style>\n",
              "\n",
              "  <script>\n",
              "    async function quickchart(key) {\n",
              "      const quickchartButtonEl =\n",
              "        document.querySelector('#' + key + ' button');\n",
              "      quickchartButtonEl.disabled = true;  // To prevent multiple clicks.\n",
              "      quickchartButtonEl.classList.add('colab-df-spinner');\n",
              "      try {\n",
              "        const charts = await google.colab.kernel.invokeFunction(\n",
              "            'suggestCharts', [key], {});\n",
              "      } catch (error) {\n",
              "        console.error('Error during call to suggestCharts:', error);\n",
              "      }\n",
              "      quickchartButtonEl.classList.remove('colab-df-spinner');\n",
              "      quickchartButtonEl.classList.add('colab-df-quickchart-complete');\n",
              "    }\n",
              "    (() => {\n",
              "      let quickchartButtonEl =\n",
              "        document.querySelector('#df-76797a80-8a77-4860-ba9e-90fe46cbecda button');\n",
              "      quickchartButtonEl.style.display =\n",
              "        google.colab.kernel.accessAllowed ? 'block' : 'none';\n",
              "    })();\n",
              "  </script>\n",
              "</div>\n",
              "\n",
              "  <div id=\"id_fc73962c-951f-49b4-be7e-ca3e7f849b2f\">\n",
              "    <style>\n",
              "      .colab-df-generate {\n",
              "        background-color: #E8F0FE;\n",
              "        border: none;\n",
              "        border-radius: 50%;\n",
              "        cursor: pointer;\n",
              "        display: none;\n",
              "        fill: #1967D2;\n",
              "        height: 32px;\n",
              "        padding: 0 0 0 0;\n",
              "        width: 32px;\n",
              "      }\n",
              "\n",
              "      .colab-df-generate:hover {\n",
              "        background-color: #E2EBFA;\n",
              "        box-shadow: 0px 1px 2px rgba(60, 64, 67, 0.3), 0px 1px 3px 1px rgba(60, 64, 67, 0.15);\n",
              "        fill: #174EA6;\n",
              "      }\n",
              "\n",
              "      [theme=dark] .colab-df-generate {\n",
              "        background-color: #3B4455;\n",
              "        fill: #D2E3FC;\n",
              "      }\n",
              "\n",
              "      [theme=dark] .colab-df-generate:hover {\n",
              "        background-color: #434B5C;\n",
              "        box-shadow: 0px 1px 3px 1px rgba(0, 0, 0, 0.15);\n",
              "        filter: drop-shadow(0px 1px 2px rgba(0, 0, 0, 0.3));\n",
              "        fill: #FFFFFF;\n",
              "      }\n",
              "    </style>\n",
              "    <button class=\"colab-df-generate\" onclick=\"generateWithVariable('df')\"\n",
              "            title=\"Generate code using this dataframe.\"\n",
              "            style=\"display:none;\">\n",
              "\n",
              "  <svg xmlns=\"http://www.w3.org/2000/svg\" height=\"24px\"viewBox=\"0 0 24 24\"\n",
              "       width=\"24px\">\n",
              "    <path d=\"M7,19H8.4L18.45,9,17,7.55,7,17.6ZM5,21V16.75L18.45,3.32a2,2,0,0,1,2.83,0l1.4,1.43a1.91,1.91,0,0,1,.58,1.4,1.91,1.91,0,0,1-.58,1.4L9.25,21ZM18.45,9,17,7.55Zm-12,3A5.31,5.31,0,0,0,4.9,8.1,5.31,5.31,0,0,0,1,6.5,5.31,5.31,0,0,0,4.9,4.9,5.31,5.31,0,0,0,6.5,1,5.31,5.31,0,0,0,8.1,4.9,5.31,5.31,0,0,0,12,6.5,5.46,5.46,0,0,0,6.5,12Z\"/>\n",
              "  </svg>\n",
              "    </button>\n",
              "    <script>\n",
              "      (() => {\n",
              "      const buttonEl =\n",
              "        document.querySelector('#id_fc73962c-951f-49b4-be7e-ca3e7f849b2f button.colab-df-generate');\n",
              "      buttonEl.style.display =\n",
              "        google.colab.kernel.accessAllowed ? 'block' : 'none';\n",
              "\n",
              "      buttonEl.onclick = () => {\n",
              "        google.colab.notebook.generateWithVariable('df');\n",
              "      }\n",
              "      })();\n",
              "    </script>\n",
              "  </div>\n",
              "\n",
              "    </div>\n",
              "  </div>\n"
            ],
            "application/vnd.google.colaboratory.intrinsic+json": {
              "type": "dataframe",
              "variable_name": "df",
              "summary": "{\n  \"name\": \"df\",\n  \"rows\": 20,\n  \"fields\": [\n    {\n      \"column\": \"x\",\n      \"properties\": {\n        \"dtype\": \"number\",\n        \"std\": 3.113726201631377,\n        \"min\": 0.0,\n        \"max\": 10.0,\n        \"num_unique_values\": 20,\n        \"samples\": [\n          0.0,\n          8.947368421052632,\n          7.894736842105263\n        ],\n        \"semantic_type\": \"\",\n        \"description\": \"\"\n      }\n    },\n    {\n      \"column\": \"y\",\n      \"properties\": {\n        \"dtype\": \"number\",\n        \"std\": 3.0987610589898247,\n        \"min\": 0.5217712378643948,\n        \"max\": 10.376255592819108,\n        \"num_unique_values\": 20,\n        \"samples\": [\n          0.5217712378643948,\n          10.376255592819108,\n          7.692163446528122\n        ],\n        \"semantic_type\": \"\",\n        \"description\": \"\"\n      }\n    }\n  ]\n}"
            }
          },
          "metadata": {},
          "execution_count": 9
        }
      ],
      "source": [
        "# Almacenamiento de datos en un Dataframe\n",
        "df = pd.DataFrame(np.array([x, y]).T, columns=['x', 'y'])\n",
        "df"
      ]
    },
    {
      "cell_type": "code",
      "execution_count": 10,
      "id": "2f450f40-bb9c-4033-ac03-4802a974bb4c",
      "metadata": {
        "tags": [],
        "id": "2f450f40-bb9c-4033-ac03-4802a974bb4c",
        "colab": {
          "base_uri": "https://localhost:8080/",
          "height": 449
        },
        "outputId": "84a37b62-e270-45e7-80cd-0964ceb0c12c"
      },
      "outputs": [
        {
          "output_type": "display_data",
          "data": {
            "text/plain": [
              "<Figure size 640x480 with 1 Axes>"
            ],
            "image/png": "[encoded data removed]"
          },
          "metadata": {}
        }
      ],
      "source": [
        "df.plot(x='x', y = 'y', kind='scatter')\n",
        "plt.show()"
      ]
    },
    {
      "cell_type": "markdown",
      "id": "8c9b3f6c-00ef-4036-b15d-4f1f90330eae",
      "metadata": {
        "id": "8c9b3f6c-00ef-4036-b15d-4f1f90330eae"
      },
      "source": [
        "## Cálculo de estadísticas.\n",
        "\n",
        "### Medidas de tendencia central.\n",
        "\n",
        "#### Media\n",
        "\n",
        "$$\n",
        "\\bar{x} = \\frac{1}{n} \\sum_{i=1}^n x_i\n",
        "$$"
      ]
    },
    {
      "cell_type": "code",
      "execution_count": 11,
      "id": "5c58c2c8-5c8c-4e0d-b7b6-1f6688c96c64",
      "metadata": {
        "tags": [],
        "id": "5c58c2c8-5c8c-4e0d-b7b6-1f6688c96c64",
        "colab": {
          "base_uri": "https://localhost:8080/"
        },
        "outputId": "d1121f1e-e401-4e66-850d-fe6875e3781b"
      },
      "outputs": [
        {
          "output_type": "execute_result",
          "data": {
            "text/plain": [
              "5.127078966595578"
            ]
          },
          "metadata": {},
          "execution_count": 11
        }
      ],
      "source": [
        "# Usando funciones simples de Python\n",
        "sum(df.y) / len(df.y)"
      ]
    },
    {
      "cell_type": "code",
      "execution_count": 12,
      "id": "f98b3cc2-c5f1-456e-a2f6-a2f6ceb7041b",
      "metadata": {
        "tags": [],
        "id": "f98b3cc2-c5f1-456e-a2f6-a2f6ceb7041b",
        "colab": {
          "base_uri": "https://localhost:8080/"
        },
        "outputId": "de7a66bd-88e7-4f4c-b1dd-af88619a49d3"
      },
      "outputs": [
        {
          "output_type": "execute_result",
          "data": {
            "text/plain": [
              "5.127078966595578"
            ]
          },
          "metadata": {},
          "execution_count": 12
        }
      ],
      "source": [
        "# Usando statistics\n",
        "statistics.mean(df.y)"
      ]
    },
    {
      "cell_type": "code",
      "execution_count": 13,
      "id": "1d4859ef-d61e-4637-bfb8-a7211fdb8b71",
      "metadata": {
        "tags": [],
        "id": "1d4859ef-d61e-4637-bfb8-a7211fdb8b71",
        "colab": {
          "base_uri": "https://localhost:8080/"
        },
        "outputId": "8174901b-1a22-49cb-8ffb-40c872a0fe12"
      },
      "outputs": [
        {
          "output_type": "execute_result",
          "data": {
            "text/plain": [
              "5.127078966595579"
            ]
          },
          "metadata": {},
          "execution_count": 13
        }
      ],
      "source": [
        "# Usando numpy\n",
        "np.mean(df.y)"
      ]
    },
    {
      "cell_type": "code",
      "execution_count": 14,
      "id": "00b40885-745f-4faa-8f69-100bb07cebd9",
      "metadata": {
        "tags": [],
        "id": "00b40885-745f-4faa-8f69-100bb07cebd9",
        "colab": {
          "base_uri": "https://localhost:8080/",
          "height": 147
        },
        "outputId": "8a491ed1-d87b-4b07-ae21-ae53c64c703a"
      },
      "outputs": [
        {
          "output_type": "execute_result",
          "data": {
            "text/plain": [
              "x    5.000000\n",
              "y    5.127079\n",
              "dtype: float64"
            ],
            "text/html": [
              "<table border=\"1\" class=\"dataframe\">\n",
              "  <thead>\n",
              "    <tr style=\"text-align: right;\">\n",
              "      <th></th>\n",
              "      <th>0</th>\n",
              "    </tr>\n",
              "  </thead>\n",
              "  <tbody>\n",
              "    <tr>\n",
              "      <th>x</th>\n",
              "      <td>5.000000</td>\n",
              "    </tr>\n",
              "    <tr>\n",
              "      <th>y</th>\n",
              "      <td>5.127079</td>\n",
              "    </tr>\n",
              "  </tbody>\n",
              "</table><br><label><b>dtype:</b> float64</label>"
            ]
          },
          "metadata": {},
          "execution_count": 14
        }
      ],
      "source": [
        "# Usando pandas\n",
        "df.mean()"
      ]
    },
    {
      "cell_type": "code",
      "execution_count": 15,
      "id": "7b074221-1a52-4998-a051-ea1238f08b85",
      "metadata": {
        "tags": [],
        "id": "7b074221-1a52-4998-a051-ea1238f08b85",
        "colab": {
          "base_uri": "https://localhost:8080/"
        },
        "outputId": "d263b033-cf6e-457e-c566-4700c3ad179b"
      },
      "outputs": [
        {
          "output_type": "execute_result",
          "data": {
            "text/plain": [
              "5.127078966595579"
            ]
          },
          "metadata": {},
          "execution_count": 15
        }
      ],
      "source": [
        "df.y.mean()"
      ]
    },
    {
      "cell_type": "markdown",
      "id": "73891803-ade1-4803-9bcc-09c60da7fa0a",
      "metadata": {
        "id": "73891803-ade1-4803-9bcc-09c60da7fa0a"
      },
      "source": [
        "<div class=\"alert alert-info\" role=\"alert\">\n",
        "Existen también funciones para calcular la media ponderada. Véase  np.average().\n",
        "</div>"
      ]
    },
    {
      "cell_type": "markdown",
      "id": "ee030c36-e039-495f-8670-63c0753d2278",
      "metadata": {
        "id": "ee030c36-e039-495f-8670-63c0753d2278"
      },
      "source": [
        "#### Media armónica\n",
        "\n",
        "Suele ser empleada para promediar velocidades, tiempos, rendimientos, entre otros. La media armónica resulta poco influida por la existencia de determinados valores mucho más grandes que el conjunto de los otros, siendo en cambio sensible a valores mucho más pequeños que el conjunto.\n",
        "\n",
        "$$\n",
        "H = \\frac{n}{ \\sum_{i=1}^n \\frac{1}{x_i}}\n",
        "$$"
      ]
    },
    {
      "cell_type": "code",
      "execution_count": 16,
      "id": "4ff5e976-663a-4dc9-a7f6-c26f3dacd88d",
      "metadata": {
        "tags": [],
        "id": "4ff5e976-663a-4dc9-a7f6-c26f3dacd88d",
        "colab": {
          "base_uri": "https://localhost:8080/"
        },
        "outputId": "693862e2-007c-4330-8194-dcda8468c321"
      },
      "outputs": [
        {
          "output_type": "execute_result",
          "data": {
            "text/plain": [
              "2.6319726226334392"
            ]
          },
          "metadata": {},
          "execution_count": 16
        }
      ],
      "source": [
        "# Usando funciones simples de Python\n",
        "len(df.y) / sum(1 / item for item in df.y)"
      ]
    },
    {
      "cell_type": "code",
      "execution_count": 17,
      "id": "5b6856c9-f3e1-4bd2-a9c3-f08fd9556833",
      "metadata": {
        "tags": [],
        "id": "5b6856c9-f3e1-4bd2-a9c3-f08fd9556833",
        "colab": {
          "base_uri": "https://localhost:8080/"
        },
        "outputId": "91d6ce9b-ee6c-44f2-fa28-930cba30ddb5"
      },
      "outputs": [
        {
          "output_type": "execute_result",
          "data": {
            "text/plain": [
              "2.6319726226334392"
            ]
          },
          "metadata": {},
          "execution_count": 17
        }
      ],
      "source": [
        "# Usando statistics\n",
        "statistics.harmonic_mean(df.y)"
      ]
    },
    {
      "cell_type": "code",
      "execution_count": 18,
      "id": "d263cc50-372f-4eb2-817a-2a90fc939fac",
      "metadata": {
        "tags": [],
        "id": "d263cc50-372f-4eb2-817a-2a90fc939fac",
        "colab": {
          "base_uri": "https://localhost:8080/"
        },
        "outputId": "c4cbfacf-0034-401e-fc99-f41425dae379"
      },
      "outputs": [
        {
          "output_type": "execute_result",
          "data": {
            "text/plain": [
              "2.631972622633439"
            ]
          },
          "metadata": {},
          "execution_count": 18
        }
      ],
      "source": [
        "# Usando scipy\n",
        "scipy.stats.hmean(df.y)"
      ]
    },
    {
      "cell_type": "markdown",
      "id": "a9585955-f528-410e-8b4d-0c604753ac4f",
      "metadata": {
        "id": "a9585955-f528-410e-8b4d-0c604753ac4f"
      },
      "source": [
        "#### Media geométrica\n",
        "\n",
        "Es recomendada para datos de progresión geométrica, para promediar razones, interés compuesto y números índice.\n",
        "\n",
        "$$\n",
        "G = \\sqrt[n]{\\prod_{i=1}^n x_i}\n",
        "$$"
      ]
    },
    {
      "cell_type": "code",
      "execution_count": 20,
      "id": "2e03fce8-87e1-44ba-9c5c-9b8c439f88ba",
      "metadata": {
        "tags": [],
        "id": "2e03fce8-87e1-44ba-9c5c-9b8c439f88ba",
        "colab": {
          "base_uri": "https://localhost:8080/"
        },
        "outputId": "5ca96854-4c49-4c77-cd47-4185b6ba7369"
      },
      "outputs": [
        {
          "output_type": "stream",
          "name": "stdout",
          "text": [
            "3.9729381338650938\n"
          ]
        }
      ],
      "source": [
        "# Usando Python\n",
        "G = 1\n",
        "for i in df.y:\n",
        "    G *= i\n",
        "G **= (1/len(df.y))\n",
        "\n",
        "print(G)\n",
        "\n",
        "# Nota: *= multiplica por i y le asigna ese valor al mismo G, **= es lo mismo\n",
        "# solo que en potencia"
      ]
    },
    {
      "cell_type": "code",
      "execution_count": 21,
      "id": "9d135b6b-27a0-4823-b318-5037a852c5cb",
      "metadata": {
        "tags": [],
        "id": "9d135b6b-27a0-4823-b318-5037a852c5cb",
        "colab": {
          "base_uri": "https://localhost:8080/"
        },
        "outputId": "981e48d6-10dd-4e75-da12-07983ff33d1b"
      },
      "outputs": [
        {
          "output_type": "execute_result",
          "data": {
            "text/plain": [
              "3.972938133865093"
            ]
          },
          "metadata": {},
          "execution_count": 21
        }
      ],
      "source": [
        "# Usando statistics\n",
        "statistics.geometric_mean(df.y)"
      ]
    },
    {
      "cell_type": "code",
      "execution_count": 22,
      "id": "88d5f42c-d606-4c01-bdb5-6a853028ffdc",
      "metadata": {
        "tags": [],
        "id": "88d5f42c-d606-4c01-bdb5-6a853028ffdc",
        "colab": {
          "base_uri": "https://localhost:8080/"
        },
        "outputId": "c5a19331-4d70-411a-f26d-3bd32bf9df34"
      },
      "outputs": [
        {
          "output_type": "execute_result",
          "data": {
            "text/plain": [
              "3.972938133865093"
            ]
          },
          "metadata": {},
          "execution_count": 22
        }
      ],
      "source": [
        "# Usando scipy\n",
        "scipy.stats.gmean(df.y)"
      ]
    },
    {
      "cell_type": "code",
      "execution_count": 23,
      "id": "15862128-d7ab-42ed-b431-850fbbaf260d",
      "metadata": {
        "tags": [],
        "id": "15862128-d7ab-42ed-b431-850fbbaf260d",
        "colab": {
          "base_uri": "https://localhost:8080/",
          "height": 447
        },
        "outputId": "7d88af2f-049e-4ee3-8495-c727d02f441b"
      },
      "outputs": [
        {
          "output_type": "execute_result",
          "data": {
            "text/plain": [
              "<matplotlib.legend.Legend at 0x794a94f58970>"
            ]
          },
          "metadata": {},
          "execution_count": 23
        },
        {
          "output_type": "display_data",
          "data": {
            "text/plain": [
              "<Figure size 640x480 with 1 Axes>"
            ],
            "image/png": "[encoded data removed]"
          },
          "metadata": {}
        }
      ],
      "source": [
        "plt.plot(df.y, np.zeros(len(df.y)), 'o')\n",
        "plt.scatter(statistics.mean(df.y), 0, fc='C1', ec='gray', alpha=0.75, s = 75, label='Media')\n",
        "plt.scatter(statistics.harmonic_mean(df.y), 0, fc='C2', ec='gray', alpha=0.75, s = 75, label='Media Armónica')\n",
        "plt.scatter(statistics.geometric_mean(df.y), 0, fc='C3', ec='gray', alpha=0.75, s = 75, label='Media Geométrica')\n",
        "plt.ylim(-0.5, 0.5)\n",
        "plt.legend()"
      ]
    },
    {
      "cell_type": "markdown",
      "id": "67335710-e576-4135-9a83-1e2b4b528f3e",
      "metadata": {
        "id": "67335710-e576-4135-9a83-1e2b4b528f3e"
      },
      "source": [
        "#### Mediana\n",
        "\n",
        "Es el elemento medio de un conjunto de datos ordenado.\n",
        "\n",
        "La media se ve afectada por valores atípicos, mientras que la mediana es afectada poco o nada por ese tipo de elementos."
      ]
    },
    {
      "cell_type": "code",
      "execution_count": 24,
      "id": "0ef852f3-295e-4ee2-92b3-c39d2177b2e2",
      "metadata": {
        "tags": [],
        "id": "0ef852f3-295e-4ee2-92b3-c39d2177b2e2",
        "colab": {
          "base_uri": "https://localhost:8080/"
        },
        "outputId": "8b836a81-ca3f-4530-dbe3-7019e0188c94"
      },
      "outputs": [
        {
          "output_type": "execute_result",
          "data": {
            "text/plain": [
              "4.965924217117893"
            ]
          },
          "metadata": {},
          "execution_count": 24
        }
      ],
      "source": [
        "# Usando statistics\n",
        "statistics.median(df.y)"
      ]
    },
    {
      "cell_type": "code",
      "execution_count": 25,
      "id": "7c8942a9-52e5-485f-8493-51617a9c4879",
      "metadata": {
        "tags": [],
        "id": "7c8942a9-52e5-485f-8493-51617a9c4879",
        "colab": {
          "base_uri": "https://localhost:8080/"
        },
        "outputId": "fe33806d-96e0-4b05-a71c-fba264c7e4db"
      },
      "outputs": [
        {
          "output_type": "execute_result",
          "data": {
            "text/plain": [
              "array([  0.52177124,   0.72578001,   2.03856878,   1.9994404 ,\n",
              "         2.24925264,   2.98335349,   3.06653254,   2.51596286,\n",
              "         4.21607458,   5.29388465,   5.58573724,   4.63796379,\n",
              "         5.62499689,   9.32860219,   7.27526702,   7.69216345,\n",
              "         8.54735709,  10.37625559,   8.96763538,   8.89497949,\n",
              "       300.        ])"
            ]
          },
          "metadata": {},
          "execution_count": 25
        }
      ],
      "source": [
        "np.append(y, 300)"
      ]
    },
    {
      "cell_type": "code",
      "execution_count": 26,
      "id": "84073e3a-30ab-49fa-8a67-0698972ab2e4",
      "metadata": {
        "tags": [],
        "id": "84073e3a-30ab-49fa-8a67-0698972ab2e4",
        "colab": {
          "base_uri": "https://localhost:8080/"
        },
        "outputId": "eca26ba3-01db-4652-8880-74b9d2ff2a21"
      },
      "outputs": [
        {
          "output_type": "execute_result",
          "data": {
            "text/plain": [
              "5.293884648102325"
            ]
          },
          "metadata": {},
          "execution_count": 26
        }
      ],
      "source": [
        "statistics.median(np.append(y, 300))"
      ]
    },
    {
      "cell_type": "code",
      "execution_count": 27,
      "id": "8539c67a-ea06-4a58-9c23-a7eddec060c8",
      "metadata": {
        "tags": [],
        "id": "8539c67a-ea06-4a58-9c23-a7eddec060c8",
        "colab": {
          "base_uri": "https://localhost:8080/"
        },
        "outputId": "2842f349-eed2-4eac-91c7-55f139f78751"
      },
      "outputs": [
        {
          "output_type": "execute_result",
          "data": {
            "text/plain": [
              "19.16864663485293"
            ]
          },
          "metadata": {},
          "execution_count": 27
        }
      ],
      "source": [
        "statistics.mean(np.append(y, 300))"
      ]
    },
    {
      "cell_type": "code",
      "execution_count": 28,
      "id": "8fa4c465-d69c-42e7-94c2-da8dedb2d8b9",
      "metadata": {
        "tags": [],
        "id": "8fa4c465-d69c-42e7-94c2-da8dedb2d8b9",
        "colab": {
          "base_uri": "https://localhost:8080/"
        },
        "outputId": "b346b43c-eea5-4580-fc8d-77412b9053c0"
      },
      "outputs": [
        {
          "output_type": "execute_result",
          "data": {
            "text/plain": [
              "4.965924217117893"
            ]
          },
          "metadata": {},
          "execution_count": 28
        }
      ],
      "source": [
        "# Usando numpy\n",
        "np.median(y)"
      ]
    },
    {
      "cell_type": "code",
      "execution_count": 29,
      "id": "9fc90aa9-45a7-4b3d-b316-940c847a8847",
      "metadata": {
        "tags": [],
        "id": "9fc90aa9-45a7-4b3d-b316-940c847a8847",
        "colab": {
          "base_uri": "https://localhost:8080/"
        },
        "outputId": "c7f205a8-be9f-42df-f568-f80aab357587"
      },
      "outputs": [
        {
          "output_type": "execute_result",
          "data": {
            "text/plain": [
              "4.965924217117893"
            ]
          },
          "metadata": {},
          "execution_count": 29
        }
      ],
      "source": [
        "# Usando pandas\n",
        "df.y.median()"
      ]
    },
    {
      "cell_type": "markdown",
      "id": "16c15e4d-4933-49d1-b8ae-7cbbc1d8e399",
      "metadata": {
        "id": "16c15e4d-4933-49d1-b8ae-7cbbc1d8e399"
      },
      "source": [
        "#### Moda\n",
        "Valor del conjunto de datos que ocurre con más frecuencia."
      ]
    },
    {
      "cell_type": "code",
      "execution_count": 30,
      "id": "b8dff75f-050a-4a17-99c3-f4722893de30",
      "metadata": {
        "tags": [],
        "id": "b8dff75f-050a-4a17-99c3-f4722893de30",
        "colab": {
          "base_uri": "https://localhost:8080/"
        },
        "outputId": "8ee39a6e-cdf1-4881-8543-6e1d2f8dc322"
      },
      "outputs": [
        {
          "output_type": "execute_result",
          "data": {
            "text/plain": [
              "7"
            ]
          },
          "metadata": {},
          "execution_count": 30
        }
      ],
      "source": [
        "# Usando statistics\n",
        "a = np.array([7,2,3,4,2,6,2,7,7,4,2,5,6,7,8,2,2,9,7,3,7])\n",
        "statistics.mode(a)"
      ]
    },
    {
      "cell_type": "code",
      "execution_count": 31,
      "id": "e48e413f-7b65-4114-b99f-12e4d7b881b8",
      "metadata": {
        "tags": [],
        "id": "e48e413f-7b65-4114-b99f-12e4d7b881b8",
        "colab": {
          "base_uri": "https://localhost:8080/"
        },
        "outputId": "bf33f5f6-b328-45b1-9dea-f866e63a66df"
      },
      "outputs": [
        {
          "output_type": "execute_result",
          "data": {
            "text/plain": [
              "[7, 2]"
            ]
          },
          "metadata": {},
          "execution_count": 31
        }
      ],
      "source": [
        "statistics.multimode(a)"
      ]
    },
    {
      "cell_type": "code",
      "execution_count": 32,
      "id": "40d7de5c-c05d-41ce-93e9-69e281238033",
      "metadata": {
        "tags": [],
        "id": "40d7de5c-c05d-41ce-93e9-69e281238033",
        "colab": {
          "base_uri": "https://localhost:8080/"
        },
        "outputId": "77d9c4d9-7b6c-405f-ecdc-4287591c6158"
      },
      "outputs": [
        {
          "output_type": "execute_result",
          "data": {
            "text/plain": [
              "ModeResult(mode=array([2]), count=array([6]))"
            ]
          },
          "metadata": {},
          "execution_count": 32
        }
      ],
      "source": [
        "# Usando scipy\n",
        "scipy.stats.mode(a, keepdims=True)"
      ]
    },
    {
      "cell_type": "code",
      "execution_count": 33,
      "id": "e8dc3068-0218-476c-bb50-ce5497e36da1",
      "metadata": {
        "tags": [],
        "id": "e8dc3068-0218-476c-bb50-ce5497e36da1",
        "colab": {
          "base_uri": "https://localhost:8080/",
          "height": 147
        },
        "outputId": "14970c85-f715-4532-9eac-57bd226ec33b"
      },
      "outputs": [
        {
          "output_type": "execute_result",
          "data": {
            "text/plain": [
              "0    2\n",
              "1    7\n",
              "dtype: int64"
            ],
            "text/html": [
              "<table border=\"1\" class=\"dataframe\">\n",
              "  <thead>\n",
              "    <tr style=\"text-align: right;\">\n",
              "      <th></th>\n",
              "      <th>0</th>\n",
              "    </tr>\n",
              "  </thead>\n",
              "  <tbody>\n",
              "    <tr>\n",
              "      <th>0</th>\n",
              "      <td>2</td>\n",
              "    </tr>\n",
              "    <tr>\n",
              "      <th>1</th>\n",
              "      <td>7</td>\n",
              "    </tr>\n",
              "  </tbody>\n",
              "</table><br><label><b>dtype:</b> int64</label>"
            ]
          },
          "metadata": {},
          "execution_count": 33
        }
      ],
      "source": [
        "# Usando pandas\n",
        "aS = pd.Series(a)\n",
        "aS.mode()"
      ]
    },
    {
      "cell_type": "markdown",
      "id": "f658114d-bd61-4e72-8585-8226fd7c27e1",
      "metadata": {
        "id": "f658114d-bd61-4e72-8585-8226fd7c27e1"
      },
      "source": [
        "### Medidas de variabilidad\n",
        "\n",
        "Estas medidas permiten determinar que tan dispersos se encuentran los datos."
      ]
    },
    {
      "cell_type": "markdown",
      "id": "f2a6e6e2-f7b3-4a88-8665-d0c3c848c4c6",
      "metadata": {
        "id": "f2a6e6e2-f7b3-4a88-8665-d0c3c848c4c6"
      },
      "source": [
        "#### Varianza\n",
        "\n",
        "Medida de dispersión definida como la esperanza del cuadrado de la desviación de dicha variable respecto a su media. Su unidad de medida corresponde al cuadrado de la unidad de medida de la variable: por ejemplo, si la variable mide una distancia en metros, la varianza se expresa en metros al cuadrado.\n",
        "\n",
        "$$\n",
        "\\sigma^2 = \\frac{1}{n-1} \\sum_{i}^{n}(x_i - \\bar{x})^2\n",
        "$$"
      ]
    },
    {
      "cell_type": "code",
      "execution_count": 34,
      "id": "81fe19c1-e5d6-4692-9c43-42e2c83c818a",
      "metadata": {
        "tags": [],
        "id": "81fe19c1-e5d6-4692-9c43-42e2c83c818a",
        "colab": {
          "base_uri": "https://localhost:8080/"
        },
        "outputId": "989f38d4-ed1b-4f05-fbb4-5c6fe8a64128"
      },
      "outputs": [
        {
          "output_type": "execute_result",
          "data": {
            "text/plain": [
              "9.602320100711738"
            ]
          },
          "metadata": {},
          "execution_count": 34
        }
      ],
      "source": [
        "# Usando Python\n",
        "n = len(y)\n",
        "ym = sum(y) / n\n",
        "sum((i - ym)**2 for i in y) / (n - 1)"
      ]
    },
    {
      "cell_type": "code",
      "execution_count": 35,
      "id": "dc38fd6c-0daf-4fca-b6a4-07142909d99c",
      "metadata": {
        "tags": [],
        "id": "dc38fd6c-0daf-4fca-b6a4-07142909d99c",
        "colab": {
          "base_uri": "https://localhost:8080/"
        },
        "outputId": "fd9f0055-5e03-4454-ae66-ae91e06c9ea8"
      },
      "outputs": [
        {
          "output_type": "execute_result",
          "data": {
            "text/plain": [
              "9.60232010071174"
            ]
          },
          "metadata": {},
          "execution_count": 35
        }
      ],
      "source": [
        "# Usando statistics\n",
        "statistics.variance(y)"
      ]
    },
    {
      "cell_type": "code",
      "execution_count": 36,
      "id": "17f64b90-ee02-4aaa-8ecc-502f26c9d25b",
      "metadata": {
        "tags": [],
        "id": "17f64b90-ee02-4aaa-8ecc-502f26c9d25b",
        "colab": {
          "base_uri": "https://localhost:8080/"
        },
        "outputId": "36044649-4437-4cdd-8ec3-f731a2673df1"
      },
      "outputs": [
        {
          "output_type": "execute_result",
          "data": {
            "text/plain": [
              "9.60232010071174"
            ]
          },
          "metadata": {},
          "execution_count": 36
        }
      ],
      "source": [
        "# Usando numpy\n",
        "y.var(ddof=1) # ddof=0 calcula dividiendo entre n"
      ]
    },
    {
      "cell_type": "code",
      "execution_count": 37,
      "id": "205933d4-7213-46c3-919b-4c1dff0a222d",
      "metadata": {
        "tags": [],
        "id": "205933d4-7213-46c3-919b-4c1dff0a222d",
        "colab": {
          "base_uri": "https://localhost:8080/"
        },
        "outputId": "5faef258-ad6f-42a0-be80-cbb6d6fed482"
      },
      "outputs": [
        {
          "output_type": "execute_result",
          "data": {
            "text/plain": [
              "9.60232010071174"
            ]
          },
          "metadata": {},
          "execution_count": 37
        }
      ],
      "source": [
        "# Usando pandas\n",
        "df.y.var()"
      ]
    },
    {
      "cell_type": "markdown",
      "id": "82f37657-6ed0-4152-883b-0e1a29824871",
      "metadata": {
        "id": "82f37657-6ed0-4152-883b-0e1a29824871"
      },
      "source": [
        "#### Desviación estándar\n",
        "\n",
        "Es la raíz cuadrada positiva de la varianza de la muestra. Está relacionads con la varianza de la muestra y suele ser más conveniente que la varianza porque tiene la misma unidad que los puntos de datos.\n",
        "\n",
        "$$\n",
        "s = \\sqrt{\\frac{1}{n-1} \\sum_{i}^{n}(x_i - \\bar{x})^2}\n",
        "$$"
      ]
    },
    {
      "cell_type": "code",
      "execution_count": 38,
      "id": "c8a8c7b1-a59b-4b22-89ab-e2a1c42423b9",
      "metadata": {
        "tags": [],
        "id": "c8a8c7b1-a59b-4b22-89ab-e2a1c42423b9",
        "colab": {
          "base_uri": "https://localhost:8080/"
        },
        "outputId": "48d7e4fd-98be-42ee-aa03-e4985fff1cf0"
      },
      "outputs": [
        {
          "output_type": "execute_result",
          "data": {
            "text/plain": [
              "3.0987610589898242"
            ]
          },
          "metadata": {},
          "execution_count": 38
        }
      ],
      "source": [
        "# Usando Python\n",
        "n = len(y)\n",
        "ym = sum(y) / n\n",
        "(sum((i - ym)**2 for i in y) / (n - 1))**(0.5)"
      ]
    },
    {
      "cell_type": "code",
      "execution_count": 39,
      "id": "e8d5130f-12c0-4c03-8d34-67c9300efb64",
      "metadata": {
        "tags": [],
        "id": "e8d5130f-12c0-4c03-8d34-67c9300efb64",
        "colab": {
          "base_uri": "https://localhost:8080/"
        },
        "outputId": "aa82f7a0-2a5f-4077-d29b-7a4b904c9e7b"
      },
      "outputs": [
        {
          "output_type": "execute_result",
          "data": {
            "text/plain": [
              "3.0987610589898247"
            ]
          },
          "metadata": {},
          "execution_count": 39
        }
      ],
      "source": [
        "# Usando statistics\n",
        "statistics.stdev(y)"
      ]
    },
    {
      "cell_type": "code",
      "execution_count": 40,
      "id": "e161ff05-80dd-455f-b40d-cb73be3b3328",
      "metadata": {
        "tags": [],
        "id": "e161ff05-80dd-455f-b40d-cb73be3b3328",
        "colab": {
          "base_uri": "https://localhost:8080/"
        },
        "outputId": "54be6d9d-c90d-4ce5-f322-0b6a94c61342"
      },
      "outputs": [
        {
          "output_type": "execute_result",
          "data": {
            "text/plain": [
              "3.0987610589898247"
            ]
          },
          "metadata": {},
          "execution_count": 40
        }
      ],
      "source": [
        "# Usando numpy\n",
        "y.std(ddof=1)"
      ]
    },
    {
      "cell_type": "code",
      "execution_count": 41,
      "id": "f6c73a22-5316-48bf-b20e-3f61ef9247bb",
      "metadata": {
        "tags": [],
        "id": "f6c73a22-5316-48bf-b20e-3f61ef9247bb",
        "colab": {
          "base_uri": "https://localhost:8080/"
        },
        "outputId": "5013d0d2-f80b-4981-8e7c-8e8983cc57c5"
      },
      "outputs": [
        {
          "output_type": "execute_result",
          "data": {
            "text/plain": [
              "3.0987610589898247"
            ]
          },
          "metadata": {},
          "execution_count": 41
        }
      ],
      "source": [
        "# Usando pandas\n",
        "df.y.std()"
      ]
    },
    {
      "cell_type": "markdown",
      "id": "d997f13f-8672-42dd-81f8-9cbd05e34c14",
      "metadata": {
        "id": "d997f13f-8672-42dd-81f8-9cbd05e34c14"
      },
      "source": [
        "#### Asimetría estadística (*Skewness*)\n",
        "\n",
        "Mide la asimetría de la muestra de los datos. Existen varias definiciones. Para cada biblioteca revise la documentación.\n"
      ]
    },
    {
      "cell_type": "code",
      "execution_count": 42,
      "id": "6f46e212-9031-4064-a6e2-c720a5cba6b7",
      "metadata": {
        "tags": [],
        "id": "6f46e212-9031-4064-a6e2-c720a5cba6b7",
        "colab": {
          "base_uri": "https://localhost:8080/"
        },
        "outputId": "149ed800-4b8f-42cb-89ac-233fd4b20983"
      },
      "outputs": [
        {
          "output_type": "execute_result",
          "data": {
            "text/plain": [
              "0.18056216868516756"
            ]
          },
          "metadata": {},
          "execution_count": 42
        }
      ],
      "source": [
        "# Usando scipy\n",
        "scipy.stats.skew(y, bias=False)"
      ]
    },
    {
      "cell_type": "code",
      "execution_count": 43,
      "id": "af67882a-6776-4aac-ad99-4db6b57f7d2b",
      "metadata": {
        "tags": [],
        "id": "af67882a-6776-4aac-ad99-4db6b57f7d2b",
        "colab": {
          "base_uri": "https://localhost:8080/"
        },
        "outputId": "8cac2a71-1b65-498b-89c5-db8f8529a8a5"
      },
      "outputs": [
        {
          "output_type": "execute_result",
          "data": {
            "text/plain": [
              "0.1805621686851676"
            ]
          },
          "metadata": {},
          "execution_count": 43
        }
      ],
      "source": [
        "# Usando pandas\n",
        "df.y.skew()"
      ]
    },
    {
      "cell_type": "markdown",
      "id": "b6716c63-bfb5-46a2-bf93-c094ddab3a0b",
      "metadata": {
        "id": "b6716c63-bfb5-46a2-bf93-c094ddab3a0b"
      },
      "source": [
        "#### Cuantiles, cuartiles, percentiles\n",
        "\n",
        "Los cuantiles son puntos tomados a intervalos regulares de la función de distribución de una variable aleatoria.\n",
        "\n",
        "Los cuartiles, que dividen a la distribución en cuatro partes (corresponden a los cuantiles 0.25; 0.50 y 0.75).\n",
        "\n",
        "Los percentiles, que dividen a la distribución en cien partes.\n",
        "\n",
        "Suele definirse también los deciles (diez partes), quintiles (cinco partes), octiles (ocho partes)\n"
      ]
    },
    {
      "cell_type": "code",
      "execution_count": 44,
      "id": "cff60e77-7b65-4f24-9cf7-a608685d81f4",
      "metadata": {
        "tags": [],
        "id": "cff60e77-7b65-4f24-9cf7-a608685d81f4",
        "colab": {
          "base_uri": "https://localhost:8080/"
        },
        "outputId": "58accf25-8044-45d3-98c8-778931f33e93"
      },
      "outputs": [
        {
          "output_type": "execute_result",
          "data": {
            "text/plain": [
              "array([ 0.52177124,  0.72578001,  1.9994404 ,  2.03856878,  2.24925264,\n",
              "        2.51596286,  2.98335349,  3.06653254,  4.21607458,  4.63796379,\n",
              "        5.29388465,  5.58573724,  5.62499689,  7.27526702,  7.69216345,\n",
              "        8.54735709,  8.89497949,  8.96763538,  9.32860219, 10.37625559])"
            ]
          },
          "metadata": {},
          "execution_count": 44
        }
      ],
      "source": [
        "np.sort(y)"
      ]
    },
    {
      "cell_type": "code",
      "execution_count": 45,
      "id": "03b504d8-ab18-4d44-ae31-80d2c6a6a7ae",
      "metadata": {
        "tags": [],
        "id": "03b504d8-ab18-4d44-ae31-80d2c6a6a7ae",
        "colab": {
          "base_uri": "https://localhost:8080/"
        },
        "outputId": "c2e741e6-4a1b-4548-9178-3de1edbbb376"
      },
      "outputs": [
        {
          "output_type": "execute_result",
          "data": {
            "text/plain": [
              "[4.965924217117893]"
            ]
          },
          "metadata": {},
          "execution_count": 45
        }
      ],
      "source": [
        "# Usando statistics\n",
        "statistics.quantiles(y, n=2)"
      ]
    },
    {
      "cell_type": "code",
      "execution_count": 46,
      "id": "8b1fa336-fce0-42a6-aa06-4638e2da5b7b",
      "metadata": {
        "tags": [],
        "id": "8b1fa336-fce0-42a6-aa06-4638e2da5b7b",
        "colab": {
          "base_uri": "https://localhost:8080/"
        },
        "outputId": "5f0fc4c1-0cfc-49a4-a63e-acfcf55578df"
      },
      "outputs": [
        {
          "output_type": "execute_result",
          "data": {
            "text/plain": [
              "4.797879139999999"
            ]
          },
          "metadata": {},
          "execution_count": 46
        }
      ],
      "source": [
        "(4.79594355 + 4.79981473 ) *0.5"
      ]
    },
    {
      "cell_type": "code",
      "execution_count": 47,
      "id": "ee845931-9ea0-4477-bdb5-1c2298cb0a88",
      "metadata": {
        "tags": [],
        "id": "ee845931-9ea0-4477-bdb5-1c2298cb0a88",
        "colab": {
          "base_uri": "https://localhost:8080/"
        },
        "outputId": "9af91d1a-e12d-4b56-c8f8-0b487bbd58d4"
      },
      "outputs": [
        {
          "output_type": "execute_result",
          "data": {
            "text/plain": [
              "[2.3159301993967087, 4.965924217117893, 8.333558680326002]"
            ]
          },
          "metadata": {},
          "execution_count": 47
        }
      ],
      "source": [
        "statistics.quantiles(y, n=4) # cuartiles"
      ]
    },
    {
      "cell_type": "code",
      "execution_count": 48,
      "id": "25c89a59-4df1-4a1d-8c00-bfdad00be8d4",
      "metadata": {
        "tags": [],
        "id": "25c89a59-4df1-4a1d-8c00-bfdad00be8d4",
        "colab": {
          "base_uri": "https://localhost:8080/"
        },
        "outputId": "98732206-1238-4c25-f8c5-f3b7376ef325"
      },
      "outputs": [
        {
          "output_type": "execute_result",
          "data": {
            "text/plain": [
              "[2.080705555939262, 3.526349356694655, 5.609293028479264, 8.825455014241765]"
            ]
          },
          "metadata": {},
          "execution_count": 48
        }
      ],
      "source": [
        "statistics.quantiles(y, n=5) # quintiles"
      ]
    },
    {
      "cell_type": "code",
      "execution_count": 49,
      "id": "c09f3236-eda0-41a6-af4d-1bb6b941c158",
      "metadata": {
        "tags": [],
        "id": "c09f3236-eda0-41a6-af4d-1bb6b941c158",
        "colab": {
          "base_uri": "https://localhost:8080/"
        },
        "outputId": "208b6683-dcc4-41d8-a667-b6adcda775ea"
      },
      "outputs": [
        {
          "output_type": "execute_result",
          "data": {
            "text/plain": [
              "array([2.36593837, 4.96592422, 8.17320987])"
            ]
          },
          "metadata": {},
          "execution_count": 49
        }
      ],
      "source": [
        "# Usando numpy\n",
        "np.percentile(y, [25, 50, 75], method='normal_unbiased')"
      ]
    },
    {
      "cell_type": "code",
      "execution_count": 50,
      "id": "8c049212-9567-4f56-b153-9ab3ba4056d6",
      "metadata": {
        "tags": [],
        "id": "8c049212-9567-4f56-b153-9ab3ba4056d6",
        "colab": {
          "base_uri": "https://localhost:8080/"
        },
        "outputId": "6efdf8a2-cde2-46dd-d047-6a1b312d02a0"
      },
      "outputs": [
        {
          "output_type": "execute_result",
          "data": {
            "text/plain": [
              "array([2.36593837, 4.96592422, 8.17320987])"
            ]
          },
          "metadata": {},
          "execution_count": 50
        }
      ],
      "source": [
        "np.quantile(y, [0.25, 0.50, 0.75], method='normal_unbiased')"
      ]
    },
    {
      "cell_type": "code",
      "execution_count": 51,
      "id": "d22d4347-0032-4901-8d30-2f325466732b",
      "metadata": {
        "tags": [],
        "id": "d22d4347-0032-4901-8d30-2f325466732b",
        "colab": {
          "base_uri": "https://localhost:8080/",
          "height": 178
        },
        "outputId": "ac3a4ed5-3012-48d6-f9bb-dd73947c61b8"
      },
      "outputs": [
        {
          "output_type": "execute_result",
          "data": {
            "text/plain": [
              "0.25    2.449285\n",
              "0.50    4.965924\n",
              "0.75    7.905962\n",
              "Name: y, dtype: float64"
            ],
            "text/html": [
              "<table border=\"1\" class=\"dataframe\">\n",
              "  <thead>\n",
              "    <tr style=\"text-align: right;\">\n",
              "      <th></th>\n",
              "      <th>y</th>\n",
              "    </tr>\n",
              "  </thead>\n",
              "  <tbody>\n",
              "    <tr>\n",
              "      <th>0.25</th>\n",
              "      <td>2.449285</td>\n",
              "    </tr>\n",
              "    <tr>\n",
              "      <th>0.50</th>\n",
              "      <td>4.965924</td>\n",
              "    </tr>\n",
              "    <tr>\n",
              "      <th>0.75</th>\n",
              "      <td>7.905962</td>\n",
              "    </tr>\n",
              "  </tbody>\n",
              "</table><br><label><b>dtype:</b> float64</label>"
            ]
          },
          "metadata": {},
          "execution_count": 51
        }
      ],
      "source": [
        "# Usando pandas\n",
        "df.y.quantile([0.25, 0.50, 0.75])"
      ]
    },
    {
      "cell_type": "markdown",
      "id": "6d2f6fb0-cbc2-45b4-a55b-84f59979c65d",
      "metadata": {
        "id": "6d2f6fb0-cbc2-45b4-a55b-84f59979c65d"
      },
      "source": [
        "#### Rangos\n",
        "\n",
        "El rango de los datos es la diferencia entre el elemento mínimo y máximo."
      ]
    },
    {
      "cell_type": "code",
      "execution_count": 52,
      "id": "f716fd4a-59b7-4468-b015-0ca32aa979dd",
      "metadata": {
        "tags": [],
        "id": "f716fd4a-59b7-4468-b015-0ca32aa979dd",
        "colab": {
          "base_uri": "https://localhost:8080/"
        },
        "outputId": "a17d165f-8177-488c-9c21-55a07ceb54f4"
      },
      "outputs": [
        {
          "output_type": "execute_result",
          "data": {
            "text/plain": [
              "9.854484354954714"
            ]
          },
          "metadata": {},
          "execution_count": 52
        }
      ],
      "source": [
        "np.ptp(y)"
      ]
    },
    {
      "cell_type": "markdown",
      "id": "32776144-f8d1-4e65-9c5c-d662650170db",
      "metadata": {
        "id": "32776144-f8d1-4e65-9c5c-d662650170db"
      },
      "source": [
        "#### Resumen de datos estadísticos"
      ]
    },
    {
      "cell_type": "code",
      "execution_count": 53,
      "id": "ae59bae0-ccf0-445e-b9d8-b8264d8af8ff",
      "metadata": {
        "tags": [],
        "id": "ae59bae0-ccf0-445e-b9d8-b8264d8af8ff",
        "colab": {
          "base_uri": "https://localhost:8080/"
        },
        "outputId": "315d431d-d100-47c2-9470-2f88afe2e3e2"
      },
      "outputs": [
        {
          "output_type": "execute_result",
          "data": {
            "text/plain": [
              "DescribeResult(nobs=20, minmax=(0.5217712378643948, 10.376255592819108), mean=5.127078966595579, variance=9.60232010071174, skewness=0.18056216868516756, kurtosis=-1.2998956281429102)"
            ]
          },
          "metadata": {},
          "execution_count": 53
        }
      ],
      "source": [
        "# Usando scipy\n",
        "scipy.stats.describe(y, ddof=1, bias=False)"
      ]
    },
    {
      "cell_type": "code",
      "execution_count": 54,
      "id": "9625fc00-913d-45d1-85d4-7d759fdcd05e",
      "metadata": {
        "tags": [],
        "id": "9625fc00-913d-45d1-85d4-7d759fdcd05e",
        "colab": {
          "base_uri": "https://localhost:8080/",
          "height": 335
        },
        "outputId": "e8d9c1f4-506f-4e65-af3d-48195a32f4e7"
      },
      "outputs": [
        {
          "output_type": "execute_result",
          "data": {
            "text/plain": [
              "count    20.000000\n",
              "mean      5.127079\n",
              "std       3.098761\n",
              "min       0.521771\n",
              "25%       2.449285\n",
              "50%       4.965924\n",
              "75%       7.905962\n",
              "max      10.376256\n",
              "Name: y, dtype: float64"
            ],
            "text/html": [
              "<table border=\"1\" class=\"dataframe\">\n",
              "  <thead>\n",
              "    <tr style=\"text-align: right;\">\n",
              "      <th></th>\n",
              "      <th>y</th>\n",
              "    </tr>\n",
              "  </thead>\n",
              "  <tbody>\n",
              "    <tr>\n",
              "      <th>count</th>\n",
              "      <td>20.000000</td>\n",
              "    </tr>\n",
              "    <tr>\n",
              "      <th>mean</th>\n",
              "      <td>5.127079</td>\n",
              "    </tr>\n",
              "    <tr>\n",
              "      <th>std</th>\n",
              "      <td>3.098761</td>\n",
              "    </tr>\n",
              "    <tr>\n",
              "      <th>min</th>\n",
              "      <td>0.521771</td>\n",
              "    </tr>\n",
              "    <tr>\n",
              "      <th>25%</th>\n",
              "      <td>2.449285</td>\n",
              "    </tr>\n",
              "    <tr>\n",
              "      <th>50%</th>\n",
              "      <td>4.965924</td>\n",
              "    </tr>\n",
              "    <tr>\n",
              "      <th>75%</th>\n",
              "      <td>7.905962</td>\n",
              "    </tr>\n",
              "    <tr>\n",
              "      <th>max</th>\n",
              "      <td>10.376256</td>\n",
              "    </tr>\n",
              "  </tbody>\n",
              "</table><br><label><b>dtype:</b> float64</label>"
            ]
          },
          "metadata": {},
          "execution_count": 54
        }
      ],
      "source": [
        "df.y.describe()"
      ]
    },
    {
      "cell_type": "markdown",
      "id": "946d2480-5c00-43a8-934a-2485a9a2855f",
      "metadata": {
        "id": "946d2480-5c00-43a8-934a-2485a9a2855f"
      },
      "source": [
        "### Medidas de correlación\n"
      ]
    },
    {
      "cell_type": "code",
      "execution_count": 55,
      "id": "8a9bed29-ac6a-44fe-b8ce-6517b3a31b14",
      "metadata": {
        "tags": [],
        "id": "8a9bed29-ac6a-44fe-b8ce-6517b3a31b14",
        "colab": {
          "base_uri": "https://localhost:8080/",
          "height": 447
        },
        "outputId": "51fcf07f-2b7e-4c53-8a49-cee7b071b27d"
      },
      "outputs": [
        {
          "output_type": "execute_result",
          "data": {
            "text/plain": [
              "<matplotlib.collections.PathCollection at 0x794a94dcdd50>"
            ]
          },
          "metadata": {},
          "execution_count": 55
        },
        {
          "output_type": "display_data",
          "data": {
            "text/plain": [
              "<Figure size 640x480 with 1 Axes>"
            ],
            "image/png": "[encoded data removed]"
          },
          "metadata": {}
        }
      ],
      "source": [
        "# Correlación positiva\n",
        "plt.scatter(x,y)"
      ]
    },
    {
      "cell_type": "code",
      "execution_count": 56,
      "id": "603b5c6b-202f-4ead-83bb-bc60b8dd9963",
      "metadata": {
        "tags": [],
        "id": "603b5c6b-202f-4ead-83bb-bc60b8dd9963",
        "colab": {
          "base_uri": "https://localhost:8080/",
          "height": 447
        },
        "outputId": "f7d963a0-596b-4d82-f30c-fd77bd565163"
      },
      "outputs": [
        {
          "output_type": "execute_result",
          "data": {
            "text/plain": [
              "<matplotlib.collections.PathCollection at 0x794a94e3a830>"
            ]
          },
          "metadata": {},
          "execution_count": 56
        },
        {
          "output_type": "display_data",
          "data": {
            "text/plain": [
              "<Figure size 640x480 with 1 Axes>"
            ],
            "image/png": "[encoded data removed]"
          },
          "metadata": {}
        }
      ],
      "source": [
        "# Correlación negativa\n",
        "plt.scatter(np.flip(x),y)"
      ]
    },
    {
      "cell_type": "code",
      "execution_count": 57,
      "id": "f0ab624d-a5ef-489b-bf26-873a503dffbc",
      "metadata": {
        "tags": [],
        "id": "f0ab624d-a5ef-489b-bf26-873a503dffbc",
        "colab": {
          "base_uri": "https://localhost:8080/",
          "height": 447
        },
        "outputId": "f5b6e0e1-c73f-4e82-b4ce-8aacfaf41975"
      },
      "outputs": [
        {
          "output_type": "execute_result",
          "data": {
            "text/plain": [
              "<matplotlib.collections.PathCollection at 0x794a94caa860>"
            ]
          },
          "metadata": {},
          "execution_count": 57
        },
        {
          "output_type": "display_data",
          "data": {
            "text/plain": [
              "<Figure size 640x480 with 1 Axes>"
            ],
            "image/png": "[encoded data removed]"
          },
          "metadata": {}
        }
      ],
      "source": [
        "# Correlación débil\n",
        "z = np.random.rand(len(y))\n",
        "plt.scatter(z,y)"
      ]
    },
    {
      "cell_type": "markdown",
      "id": "be2643a5-f87f-4ff4-b52a-1ea315d96d06",
      "metadata": {
        "id": "be2643a5-f87f-4ff4-b52a-1ea315d96d06"
      },
      "source": [
        "#### Covarianza muestral.\n",
        "\n",
        "Cuantifica la fuerza y dirección de una relación entre dos variables. Es el dato básico para determinar si existe una dependencia entre ambas variables y además es el dato necesario para estimar otros parámetros básicos, como el coeficiente de correlación lineal o la recta de regresión.\n",
        "\n",
        "$$\n",
        "S_{xy} = \\frac{1}{n-1} \\sum_{i=1}^{n} (x_i - \\bar{x})(y_i - \\bar{y})\n",
        "$$\n",
        "\n",
        "* Si $S_{xy}>{0}$ hay dependencia directa (positiva), es decir, a grandes valores de $x$ corresponden grandes valores de $y$.\n",
        "\n",
        "* Si $S_{xy}={0}$ se interpreta como la no existencia de una relación lineal entre las dos variables.\n",
        "\n",
        "* Si $S_{xy}<{0}$ hay dependencia inversa (negativa), es decir, a grandes valores de $x$ corresponden pequeños valores de $y$."
      ]
    },
    {
      "cell_type": "code",
      "execution_count": null,
      "id": "523ad529-3132-4938-a67c-a71968c34152",
      "metadata": {
        "tags": [],
        "id": "523ad529-3132-4938-a67c-a71968c34152"
      },
      "outputs": [],
      "source": [
        "np.cov(x,y)"
      ]
    },
    {
      "cell_type": "markdown",
      "id": "d8bf9275-70b0-490b-a4bd-a3453d742fc4",
      "metadata": {
        "id": "d8bf9275-70b0-490b-a4bd-a3453d742fc4"
      },
      "source": [
        "* El primer elemento del primer renglón es la varianza de $x$, el segundo elemento de ese renglón es la covarianza $S_{xy}$.\n",
        "\n",
        "* El primer elemento del segundo renglón es la covarianza $S_{xy}$, el segundo elemento de ese renglón es la varianza de $y$.\n",
        "\n",
        "Observa que $S_{xy} > 0$."
      ]
    },
    {
      "cell_type": "code",
      "execution_count": 58,
      "id": "304d70ad-a3ff-46cb-978b-17fb20d81108",
      "metadata": {
        "tags": [],
        "id": "304d70ad-a3ff-46cb-978b-17fb20d81108",
        "colab": {
          "base_uri": "https://localhost:8080/"
        },
        "outputId": "0f3bc2c4-6944-4cfa-86e9-0630894aa4e8"
      },
      "outputs": [
        {
          "output_type": "execute_result",
          "data": {
            "text/plain": [
              "array([[ 9.69529086, -9.26353374],\n",
              "       [-9.26353374,  9.6023201 ]])"
            ]
          },
          "metadata": {},
          "execution_count": 58
        }
      ],
      "source": [
        "# Covarianza negativa\n",
        "np.cov(np.flip(x),y)"
      ]
    },
    {
      "cell_type": "code",
      "execution_count": 59,
      "id": "9bcfd70d-b661-4ea0-a8a2-8c6cd07a9bea",
      "metadata": {
        "tags": [],
        "id": "9bcfd70d-b661-4ea0-a8a2-8c6cd07a9bea",
        "colab": {
          "base_uri": "https://localhost:8080/"
        },
        "outputId": "5c8943fb-a060-4249-9675-636e6de19193"
      },
      "outputs": [
        {
          "output_type": "execute_result",
          "data": {
            "text/plain": [
              "array([[0.09280838, 0.17422048],\n",
              "       [0.17422048, 9.6023201 ]])"
            ]
          },
          "metadata": {},
          "execution_count": 59
        }
      ],
      "source": [
        "# Covarianza cercana a cero.\n",
        "np.cov(z,y)"
      ]
    },
    {
      "cell_type": "code",
      "execution_count": 60,
      "id": "40a51e39-259c-4546-80e7-af39cb597225",
      "metadata": {
        "tags": [],
        "id": "40a51e39-259c-4546-80e7-af39cb597225",
        "colab": {
          "base_uri": "https://localhost:8080/"
        },
        "outputId": "e69521c6-d5b4-43ab-dc18-1eca8b493a63"
      },
      "outputs": [
        {
          "output_type": "execute_result",
          "data": {
            "text/plain": [
              "9.26353373671211"
            ]
          },
          "metadata": {},
          "execution_count": 60
        }
      ],
      "source": [
        "# Usando pandas\n",
        "df.y.cov(df.x)"
      ]
    },
    {
      "cell_type": "markdown",
      "id": "704110c5-1144-4c2b-bfde-30655a1305d4",
      "metadata": {
        "id": "704110c5-1144-4c2b-bfde-30655a1305d4"
      },
      "source": [
        "#### Coeficiente de correlación\n",
        "\n",
        "El coeficiente de correlación, o coeficiente de correlación producto-momento de Pearson, se denota con el símbolo $r$ (también con $\\rho_{xy}$) y es otra medida de la correlación entre los datos. A diferencia de la covarianza, la correlación de Pearson es independiente de la escala de medida de las variables, se puede pensar como una covarianza estandarizada.\n",
        "\n",
        "$$\n",
        "\\rho_{xy} = \\frac{S_{xy}}{\\sigma_x \\sigma_y}\n",
        "$$\n",
        "\n",
        "De manera menos formal, podemos definir el coeficiente de correlación de Pearson como un índice que puede utilizarse para medir el grado de relación de dos variables siempre y cuando ambas sean cuantitativas y continuas.\n",
        "\n",
        "* $r > 0$ indica una correlación positiva.\n",
        "* $r < 0$ indica una correlación negativa.\n",
        "* $r = 1$ es el valor máximo y corresponde a na relación positiva lineal.\n",
        "* $r = -1$ es el valor mínimo y corresponde a na relación negativa lineal.\n",
        "* $r \\approx 0$ indicar una correlación débil.\n",
        "\n",
        "La correlación entre dos variables no implica, por sí misma, ninguna relación de causalidad. Por ejemplo, los ingresos y gastos de una familia, la producción y ventas de una fábrica, los gastos en publicidad y beneficios de una empresa."
      ]
    },
    {
      "cell_type": "code",
      "execution_count": 61,
      "id": "ccd5010e-0183-48ff-bcf6-ef255367b08a",
      "metadata": {
        "tags": [],
        "id": "ccd5010e-0183-48ff-bcf6-ef255367b08a",
        "colab": {
          "base_uri": "https://localhost:8080/"
        },
        "outputId": "586e6b0e-961d-48d4-c1b8-7e2ec0794540"
      },
      "outputs": [
        {
          "output_type": "execute_result",
          "data": {
            "text/plain": [
              "PearsonRResult(statistic=0.9600816664783894, pvalue=2.1142671332349342e-11)"
            ]
          },
          "metadata": {},
          "execution_count": 61
        }
      ],
      "source": [
        "# Usando scipy\n",
        "scipy.stats.pearsonr(x, y)"
      ]
    },
    {
      "cell_type": "code",
      "execution_count": 62,
      "id": "21aac4b3-aec2-47ae-938a-8b072b616fd8",
      "metadata": {
        "tags": [],
        "id": "21aac4b3-aec2-47ae-938a-8b072b616fd8",
        "colab": {
          "base_uri": "https://localhost:8080/"
        },
        "outputId": "48e54d74-ea6e-4c68-edaf-2e9b34b00ebb"
      },
      "outputs": [
        {
          "output_type": "execute_result",
          "data": {
            "text/plain": [
              "PearsonRResult(statistic=-0.9600816664783893, pvalue=2.1142671332350396e-11)"
            ]
          },
          "metadata": {},
          "execution_count": 62
        }
      ],
      "source": [
        "scipy.stats.pearsonr(np.flip(x), y)"
      ]
    },
    {
      "cell_type": "code",
      "execution_count": 63,
      "id": "cf718fd7-5b16-44fb-a223-647da80cda22",
      "metadata": {
        "tags": [],
        "id": "cf718fd7-5b16-44fb-a223-647da80cda22",
        "colab": {
          "base_uri": "https://localhost:8080/"
        },
        "outputId": "d1bdbb28-82be-48a5-ed46-f149d64fa58b"
      },
      "outputs": [
        {
          "output_type": "execute_result",
          "data": {
            "text/plain": [
              "PearsonRResult(statistic=0.18455148181722358, pvalue=0.4360252025961465)"
            ]
          },
          "metadata": {},
          "execution_count": 63
        }
      ],
      "source": [
        "scipy.stats.pearsonr(z, y)"
      ]
    },
    {
      "cell_type": "code",
      "execution_count": 64,
      "id": "96a44a06-bdfc-4f7c-aad2-1bc8970e107a",
      "metadata": {
        "tags": [],
        "id": "96a44a06-bdfc-4f7c-aad2-1bc8970e107a",
        "colab": {
          "base_uri": "https://localhost:8080/"
        },
        "outputId": "438806e7-6d42-47d2-80a8-3ee537e1dc7b"
      },
      "outputs": [
        {
          "output_type": "execute_result",
          "data": {
            "text/plain": [
              "array([[1.        , 0.96008167],\n",
              "       [0.96008167, 1.        ]])"
            ]
          },
          "metadata": {},
          "execution_count": 64
        }
      ],
      "source": [
        "# Usando numpy\n",
        "np.corrcoef(x, y)"
      ]
    },
    {
      "cell_type": "code",
      "execution_count": 65,
      "id": "4d2fe777-ea32-4a39-bb27-bc13652fa278",
      "metadata": {
        "tags": [],
        "id": "4d2fe777-ea32-4a39-bb27-bc13652fa278",
        "colab": {
          "base_uri": "https://localhost:8080/"
        },
        "outputId": "20f5db8b-7f91-4c01-b28c-06269be18528"
      },
      "outputs": [
        {
          "output_type": "execute_result",
          "data": {
            "text/plain": [
              "array([[ 1.        , -0.96008167],\n",
              "       [-0.96008167,  1.        ]])"
            ]
          },
          "metadata": {},
          "execution_count": 65
        }
      ],
      "source": [
        "np.corrcoef(np.flip(x), y )"
      ]
    },
    {
      "cell_type": "code",
      "execution_count": 66,
      "id": "37d3f5d0-5a30-4853-ab0a-f2261395d786",
      "metadata": {
        "tags": [],
        "id": "37d3f5d0-5a30-4853-ab0a-f2261395d786",
        "colab": {
          "base_uri": "https://localhost:8080/"
        },
        "outputId": "7b4f0e5a-5a8f-43fd-83b0-c3ca136cfa33"
      },
      "outputs": [
        {
          "output_type": "execute_result",
          "data": {
            "text/plain": [
              "array([[1.        , 0.18455148],\n",
              "       [0.18455148, 1.        ]])"
            ]
          },
          "metadata": {},
          "execution_count": 66
        }
      ],
      "source": [
        "np.corrcoef(z,y)"
      ]
    },
    {
      "cell_type": "code",
      "execution_count": 67,
      "id": "c1182625-e2b4-450c-a4ba-82ca76a55b15",
      "metadata": {
        "tags": [],
        "id": "c1182625-e2b4-450c-a4ba-82ca76a55b15",
        "colab": {
          "base_uri": "https://localhost:8080/"
        },
        "outputId": "9e5d53f0-dcc8-4b10-88db-018f9c531e97"
      },
      "outputs": [
        {
          "output_type": "execute_result",
          "data": {
            "text/plain": [
              "0.9600816664783894"
            ]
          },
          "metadata": {},
          "execution_count": 67
        }
      ],
      "source": [
        "# Usando pandas\n",
        "df.y.corr(df.x)"
      ]
    },
    {
      "cell_type": "code",
      "execution_count": 68,
      "id": "f43bd073-3314-4f73-9216-e3f91bd5a9dd",
      "metadata": {
        "tags": [],
        "id": "f43bd073-3314-4f73-9216-e3f91bd5a9dd",
        "colab": {
          "base_uri": "https://localhost:8080/"
        },
        "outputId": "7915f3e1-4e83-4966-e491-2758f1c90fed"
      },
      "outputs": [
        {
          "output_type": "execute_result",
          "data": {
            "text/plain": [
              "LinregressResult(slope=0.9554673368437351, intercept=0.3497422823769032, rvalue=0.9600816664783898, pvalue=2.114267133234825e-11, stderr=0.06561372595748756, intercept_stderr=0.3837731424268756)"
            ]
          },
          "metadata": {},
          "execution_count": 68
        }
      ],
      "source": [
        "# Usando scipy\n",
        "lres = scipy.stats.linregress(x, y)\n",
        "lres"
      ]
    },
    {
      "cell_type": "code",
      "execution_count": 69,
      "id": "a0a0dcce-1b78-46bc-945f-385e55c128c9",
      "metadata": {
        "tags": [],
        "id": "a0a0dcce-1b78-46bc-945f-385e55c128c9",
        "colab": {
          "base_uri": "https://localhost:8080/"
        },
        "outputId": "7ac5d554-db8d-4af2-9f1f-189ecf8780b1"
      },
      "outputs": [
        {
          "output_type": "stream",
          "name": "stdout",
          "text": [
            "0.9554673368437351\n",
            "0.3497422823769032\n"
          ]
        }
      ],
      "source": [
        "print(lres.slope)\n",
        "print(lres.intercept)"
      ]
    },
    {
      "cell_type": "code",
      "execution_count": 70,
      "id": "83affc00-2f87-4af6-a86a-cedfabbbbf03",
      "metadata": {
        "tags": [],
        "id": "83affc00-2f87-4af6-a86a-cedfabbbbf03",
        "colab": {
          "base_uri": "https://localhost:8080/",
          "height": 430
        },
        "outputId": "1820058b-66c1-4f1b-c672-853db7ebfc2c"
      },
      "outputs": [
        {
          "output_type": "display_data",
          "data": {
            "text/plain": [
              "<Figure size 640x480 with 1 Axes>"
            ],
            "image/png": "[encoded data removed]"
          },
          "metadata": {}
        }
      ],
      "source": [
        "y_lr = lambda x: lres.slope * x + lres.intercept\n",
        "\n",
        "x_lr = np.linspace(0,L,100)\n",
        "\n",
        "plt.scatter(x,y, fc='C1', ec='k', label='Datos')\n",
        "plt.plot(x_lr, y_lr(x_lr), label='Regresión lineal')\n",
        "plt.legend()\n",
        "plt.show()"
      ]
    },
    {
      "cell_type": "markdown",
      "id": "b292b50c-d57b-4aa4-8332-eb5ec8c658a7",
      "metadata": {
        "id": "b292b50c-d57b-4aa4-8332-eb5ec8c658a7"
      },
      "source": [
        "## Usando sklearn.\n",
        "\n",
        "\n",
        "Scikit-learn es una biblioteca para aprendizaje automático de software libre para el lenguaje de programación Python. Incluye algoritmos para estadística básica, pero su mayor valor está en que provee herramientas para IA. Está diseñada para interoperar con las bibliotecas numéricas y científicas NumPy y SciPy.\n",
        "\n",
        "Podemos usarla para realizar una regresión lineal."
      ]
    },
    {
      "cell_type": "code",
      "execution_count": 71,
      "id": "85b6c8b1-7a67-4c67-96fb-3d346d8352fa",
      "metadata": {
        "tags": [],
        "id": "85b6c8b1-7a67-4c67-96fb-3d346d8352fa",
        "colab": {
          "base_uri": "https://localhost:8080/"
        },
        "outputId": "32fb4f56-4a66-47a4-92c3-560ab88aaf09"
      },
      "outputs": [
        {
          "output_type": "stream",
          "name": "stdout",
          "text": [
            "[[0.95546734]]\n",
            "[0.34974228]\n",
            "0.9217568063079216\n"
          ]
        }
      ],
      "source": [
        "from sklearn.linear_model import LinearRegression\n",
        "linear_model = LinearRegression() # Construimos el objeto para la regresión lineal.\n",
        "\n",
        "X, Y = x.reshape(-1,1),y.reshape(-1,1) # Necesitamos los datos en forma de columna\n",
        "\n",
        "linear_model.fit(X,Y) # Realizamos el ajuste\n",
        "\n",
        "print(linear_model.coef_) # Pendiente\n",
        "print(linear_model.intercept_) # Ordenada al origen\n",
        "print(linear_model.score(X,Y)) # Cuadrado de la correlación de Pearson."
      ]
    },
    {
      "cell_type": "markdown",
      "id": "3e59c575-ab3c-4403-a864-99fba2256f90",
      "metadata": {
        "id": "3e59c575-ab3c-4403-a864-99fba2256f90"
      },
      "source": [
        "Evaluamos el modelo."
      ]
    },
    {
      "cell_type": "code",
      "execution_count": 72,
      "id": "ca5cb1da-5553-4624-a302-d0e8975a5f48",
      "metadata": {
        "tags": [],
        "id": "ca5cb1da-5553-4624-a302-d0e8975a5f48",
        "colab": {
          "base_uri": "https://localhost:8080/",
          "height": 430
        },
        "outputId": "8210705b-c31b-4c5c-8e36-0c3ff2a09454"
      },
      "outputs": [
        {
          "output_type": "display_data",
          "data": {
            "text/plain": [
              "<Figure size 640x480 with 1 Axes>"
            ],
            "image/png": "[encoded data removed]"
          },
          "metadata": {}
        }
      ],
      "source": [
        "XI = x_lr.reshape(-1,1)\n",
        "YP = linear_model.predict(XI)  # Se hace la predicción\n",
        "\n",
        "plt.scatter(x,y, fc='C1', ec='k', label='Datos')\n",
        "plt.plot(x_lr, YP, label='Regresión lineal')\n",
        "plt.legend()\n",
        "plt.show()"
      ]
    },
    {
      "cell_type": "markdown",
      "id": "c4ae01bd-701a-407f-97da-67cc9076b4cd",
      "metadata": {
        "id": "c4ae01bd-701a-407f-97da-67cc9076b4cd"
      },
      "source": [
        "## Visualizando con Matplotlib"
      ]
    },
    {
      "cell_type": "code",
      "execution_count": 73,
      "id": "88104a24-ebce-411c-8619-cf5ecb79021a",
      "metadata": {
        "tags": [],
        "id": "88104a24-ebce-411c-8619-cf5ecb79021a"
      },
      "outputs": [],
      "source": [
        "import seaborn as sns\n",
        "sns.set_theme()"
      ]
    },
    {
      "cell_type": "code",
      "execution_count": 74,
      "id": "aba9ca17-01a6-469f-b7a5-90d47cf65a87",
      "metadata": {
        "tags": [],
        "id": "aba9ca17-01a6-469f-b7a5-90d47cf65a87",
        "colab": {
          "base_uri": "https://localhost:8080/"
        },
        "outputId": "bd324a8e-3bee-4eb8-b38f-120a853b8f1e"
      },
      "outputs": [
        {
          "output_type": "stream",
          "name": "stdout",
          "text": [
            "[ 0.          0.52631579  1.05263158  1.57894737  2.10526316  2.63157895\n",
            "  3.15789474  3.68421053  4.21052632  4.73684211  5.26315789  5.78947368\n",
            "  6.31578947  6.84210526  7.36842105  7.89473684  8.42105263  8.94736842\n",
            "  9.47368421 10.        ]\n",
            "[ 0.52177124  0.72578001  2.03856878  1.9994404   2.24925264  2.98335349\n",
            "  3.06653254  2.51596286  4.21607458  5.29388465  5.58573724  4.63796379\n",
            "  5.62499689  9.32860219  7.27526702  7.69216345  8.54735709 10.37625559\n",
            "  8.96763538  8.89497949]\n"
          ]
        }
      ],
      "source": [
        "print(x)\n",
        "print(y)"
      ]
    },
    {
      "cell_type": "markdown",
      "id": "07d41db1-5ef6-4d4e-88ec-55784508cc7c",
      "metadata": {
        "id": "07d41db1-5ef6-4d4e-88ec-55784508cc7c"
      },
      "source": [
        "### Boxplots"
      ]
    },
    {
      "cell_type": "code",
      "execution_count": 75,
      "id": "f6b70274-d19d-4bdf-a897-9684a918f30c",
      "metadata": {
        "tags": [],
        "id": "f6b70274-d19d-4bdf-a897-9684a918f30c",
        "colab": {
          "base_uri": "https://localhost:8080/",
          "height": 434
        },
        "outputId": "d7b7ea5e-7b9c-44cb-84a0-12ce22d4885a"
      },
      "outputs": [
        {
          "output_type": "display_data",
          "data": {
            "text/plain": [
              "<Figure size 640x480 with 1 Axes>"
            ],
            "image/png": "[encoded data removed]"
          },
          "metadata": {}
        }
      ],
      "source": [
        "w = np.random.randn(1000)\n",
        "fig, ax = plt.subplots()\n",
        "ax.boxplot((x, y, w), vert=False, showmeans=True, meanline=True,\n",
        "           labels=('x', 'y', 'w'), patch_artist=True,\n",
        "           medianprops={'linewidth': 3, 'color': 'yellow'},\n",
        "           meanprops={'linewidth': 2, 'color': 'orange'})\n",
        "plt.show()\n"
      ]
    },
    {
      "cell_type": "markdown",
      "id": "b636c481-9d90-4d83-aba0-fc6eea90cd6b",
      "metadata": {
        "id": "b636c481-9d90-4d83-aba0-fc6eea90cd6b"
      },
      "source": [
        "### Histogramas"
      ]
    },
    {
      "cell_type": "code",
      "execution_count": 76,
      "id": "8762b17d-c98b-46fc-bb1c-690d76b09477",
      "metadata": {
        "tags": [],
        "id": "8762b17d-c98b-46fc-bb1c-690d76b09477",
        "colab": {
          "base_uri": "https://localhost:8080/"
        },
        "outputId": "9ffff8d6-2e48-4101-c50d-76fd73750f18"
      },
      "outputs": [
        {
          "output_type": "stream",
          "name": "stdout",
          "text": [
            "[  5   9  59 121 208 260 201  99  30   8]\n",
            "[-3.57947144 -2.91143937 -2.24340729 -1.57537521 -0.90734314 -0.23931106\n",
            "  0.42872102  1.0967531   1.76478517  2.43281725  3.10084933]\n"
          ]
        }
      ],
      "source": [
        "hist, bin_edges = np.histogram(w, bins=10)\n",
        "print(hist)\n",
        "print(bin_edges)"
      ]
    },
    {
      "cell_type": "code",
      "execution_count": 77,
      "id": "8825de31-dd1b-4068-a914-13f7a31bcf06",
      "metadata": {
        "tags": [],
        "id": "8825de31-dd1b-4068-a914-13f7a31bcf06",
        "colab": {
          "base_uri": "https://localhost:8080/",
          "height": 458
        },
        "outputId": "8cc936e5-e68a-410e-eb55-477f8a7687c2"
      },
      "outputs": [
        {
          "output_type": "display_data",
          "data": {
            "text/plain": [
              "<Figure size 640x480 with 1 Axes>"
            ],
            "image/png": "[encoded data removed]"
          },
          "metadata": {}
        }
      ],
      "source": [
        "fig, ax = plt.subplots()\n",
        "ax.hist(w, bin_edges)\n",
        "ax.set_xlabel('w')\n",
        "ax.set_ylabel('Frequency')\n",
        "plt.show()\n"
      ]
    },
    {
      "cell_type": "markdown",
      "id": "8f29cb6e-5bdf-4b49-8463-40581c77204d",
      "metadata": {
        "id": "8f29cb6e-5bdf-4b49-8463-40581c77204d"
      },
      "source": [
        "### Gráfica de barras"
      ]
    },
    {
      "cell_type": "code",
      "execution_count": 78,
      "id": "7d46bdc5-4e9f-45e9-80f9-6ca64074fef0",
      "metadata": {
        "tags": [],
        "id": "7d46bdc5-4e9f-45e9-80f9-6ca64074fef0",
        "colab": {
          "base_uri": "https://localhost:8080/",
          "height": 458
        },
        "outputId": "e0839d14-28cb-4e7b-d037-c4da1567c27c"
      },
      "outputs": [
        {
          "output_type": "display_data",
          "data": {
            "text/plain": [
              "<Figure size 640x480 with 1 Axes>"
            ],
            "image/png": "[encoded data removed]"
          },
          "metadata": {}
        }
      ],
      "source": [
        "etiquetas = np.arange(11)\n",
        "datos = np.random.randint(1, 11, size=11)\n",
        "errores = np.fabs(np.random.randn(11))\n",
        "\n",
        "fig, ax = plt.subplots()\n",
        "ax.bar(etiquetas, datos, yerr=errores)\n",
        "ax.set_xlabel('Etiquetas')\n",
        "ax.set_ylabel('Datos')\n",
        "ax.set_xticks(etiquetas)\n",
        "plt.show()"
      ]
    },
    {
      "cell_type": "markdown",
      "id": "dd014a6a-54d5-4d0b-aff1-e7bdadf90445",
      "metadata": {
        "id": "dd014a6a-54d5-4d0b-aff1-e7bdadf90445"
      },
      "source": [
        "### Heatmap"
      ]
    },
    {
      "cell_type": "code",
      "execution_count": 79,
      "id": "5fcd4671-ca5d-46cd-9b74-062edde5cc79",
      "metadata": {
        "tags": [],
        "id": "5fcd4671-ca5d-46cd-9b74-062edde5cc79",
        "colab": {
          "base_uri": "https://localhost:8080/",
          "height": 451
        },
        "outputId": "d1d974ab-7995-4f34-b5e8-9edf3ba900de"
      },
      "outputs": [
        {
          "output_type": "execute_result",
          "data": {
            "text/plain": [
              "<Axes: >"
            ]
          },
          "metadata": {},
          "execution_count": 79
        },
        {
          "output_type": "display_data",
          "data": {
            "text/plain": [
              "<Figure size 640x480 with 2 Axes>"
            ],
            "image/png": "[encoded data removed]"
          },
          "metadata": {}
        }
      ],
      "source": [
        "sns.heatmap(data=np.cov(x,y), annot=True, cmap='summer')"
      ]
    },
    {
      "cell_type": "code",
      "execution_count": 80,
      "id": "e8f71420-5263-4023-9635-aded37dadfb9",
      "metadata": {
        "tags": [],
        "id": "e8f71420-5263-4023-9635-aded37dadfb9",
        "colab": {
          "base_uri": "https://localhost:8080/",
          "height": 451
        },
        "outputId": "afeaeb72-c1fa-449b-a970-e3b51499cf06"
      },
      "outputs": [
        {
          "output_type": "execute_result",
          "data": {
            "text/plain": [
              "<Axes: >"
            ]
          },
          "metadata": {},
          "execution_count": 80
        },
        {
          "output_type": "display_data",
          "data": {
            "text/plain": [
              "<Figure size 640x480 with 2 Axes>"
            ],
            "image/png": "[encoded data removed]"
          },
          "metadata": {}
        }
      ],
      "source": [
        "z = np.random.rand(len(y))\n",
        "sns.heatmap(data=np.cov(y,z), annot=True, cmap='hot')"
      ]
    },
    {
      "cell_type": "code",
      "execution_count": 81,
      "id": "85a82aec-37f4-4e4b-b549-bf796324dcd9",
      "metadata": {
        "tags": [],
        "id": "85a82aec-37f4-4e4b-b549-bf796324dcd9",
        "colab": {
          "base_uri": "https://localhost:8080/",
          "height": 518
        },
        "outputId": "5c87752a-0689-4a7c-f4ae-210ea18f6979"
      },
      "outputs": [
        {
          "output_type": "execute_result",
          "data": {
            "text/plain": [
              "<seaborn.axisgrid.FacetGrid at 0x794acfb1bf40>"
            ]
          },
          "metadata": {},
          "execution_count": 81
        },
        {
          "output_type": "display_data",
          "data": {
            "text/plain": [
              "<Figure size 500x500 with 1 Axes>"
            ],
            "image/png": "[encoded data removed]"
          },
          "metadata": {}
        }
      ],
      "source": [
        "sns.displot(data=w, kde=True)"
      ]
    },
    {
      "cell_type": "code",
      "execution_count": null,
      "id": "d85433f7-74f2-4b8b-a117-9f5f7650f7e7",
      "metadata": {
        "id": "d85433f7-74f2-4b8b-a117-9f5f7650f7e7"
      },
      "outputs": [],
      "source": []
    }
  ],
  "metadata": {
    "kernelspec": {
      "display_name": "Python 3 (ipykernel)",
      "language": "python",
      "name": "python3"
    },
    "language_info": {
      "codemirror_mode": {
        "name": "ipython",
        "version": 3
      },
      "file_extension": ".py",
      "mimetype": "text/x-python",
      "name": "python",
      "nbconvert_exporter": "python",
      "pygments_lexer": "ipython3",
      "version": "3.11.3"
    },
    "colab": {
      "provenance": []
    }
  },
  "nbformat": 4,
  "nbformat_minor": 5
}